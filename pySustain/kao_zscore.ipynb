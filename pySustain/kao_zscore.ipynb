{
 "cells": [
  {
   "cell_type": "code",
   "execution_count": 1,
   "id": "90d170a8",
   "metadata": {},
   "outputs": [],
   "source": [
    "# Load libraries\n",
    "\n",
    "import os\n",
    "import pandas\n",
    "import numpy as np\n",
    "import matplotlib.pyplot as plt\n",
    "import seaborn as sns\n",
    "import pySuStaIn\n",
    "import statsmodels.formula.api as smf\n",
    "from scipy import stats\n",
    "import sklearn.model_selection"
   ]
  },
  {
   "cell_type": "code",
   "execution_count": 2,
   "id": "7517c2d5",
   "metadata": {},
   "outputs": [
    {
     "data": {
      "text/html": [
       "<div>\n",
       "<style scoped>\n",
       "    .dataframe tbody tr th:only-of-type {\n",
       "        vertical-align: middle;\n",
       "    }\n",
       "\n",
       "    .dataframe tbody tr th {\n",
       "        vertical-align: top;\n",
       "    }\n",
       "\n",
       "    .dataframe thead th {\n",
       "        text-align: right;\n",
       "    }\n",
       "</style>\n",
       "<table border=\"1\" class=\"dataframe\">\n",
       "  <thead>\n",
       "    <tr style=\"text-align: right;\">\n",
       "      <th></th>\n",
       "      <th>pidn</th>\n",
       "      <th>gender</th>\n",
       "      <th>birthday</th>\n",
       "      <th>Unnamed: 3</th>\n",
       "      <th>Unnamed: 4</th>\n",
       "      <th>case_date</th>\n",
       "      <th>age</th>\n",
       "      <th>diagnosis</th>\n",
       "      <th>etiv</th>\n",
       "      <th>stage I-IIboth</th>\n",
       "      <th>...</th>\n",
       "      <th>PutamenL</th>\n",
       "      <th>PutamenR</th>\n",
       "      <th>PallidumL</th>\n",
       "      <th>PallidumR</th>\n",
       "      <th>HippocampusL</th>\n",
       "      <th>HippocampusR</th>\n",
       "      <th>AmygdalaL</th>\n",
       "      <th>AmygdalaR</th>\n",
       "      <th>AccumbensL</th>\n",
       "      <th>AccumbensR</th>\n",
       "    </tr>\n",
       "  </thead>\n",
       "  <tbody>\n",
       "    <tr>\n",
       "      <th>0</th>\n",
       "      <td>118</td>\n",
       "      <td>1</td>\n",
       "      <td>1959-05-24</td>\n",
       "      <td>NaN</td>\n",
       "      <td>//</td>\n",
       "      <td>2020-05-06</td>\n",
       "      <td>60.994521</td>\n",
       "      <td>1</td>\n",
       "      <td>1718944.373</td>\n",
       "      <td>1.186645</td>\n",
       "      <td>...</td>\n",
       "      <td>1.025486</td>\n",
       "      <td>1.047465</td>\n",
       "      <td>1.144742</td>\n",
       "      <td>1.117940</td>\n",
       "      <td>1.232588</td>\n",
       "      <td>1.322048</td>\n",
       "      <td>1.060368</td>\n",
       "      <td>1.004850</td>\n",
       "      <td>0.927153</td>\n",
       "      <td>0.906127</td>\n",
       "    </tr>\n",
       "    <tr>\n",
       "      <th>1</th>\n",
       "      <td>635</td>\n",
       "      <td>0</td>\n",
       "      <td>1947-02-21</td>\n",
       "      <td>NaN</td>\n",
       "      <td>//</td>\n",
       "      <td>2021-09-04</td>\n",
       "      <td>74.586301</td>\n",
       "      <td>1</td>\n",
       "      <td>1509385.466</td>\n",
       "      <td>1.486503</td>\n",
       "      <td>...</td>\n",
       "      <td>1.413219</td>\n",
       "      <td>1.438028</td>\n",
       "      <td>1.164178</td>\n",
       "      <td>1.277366</td>\n",
       "      <td>1.401264</td>\n",
       "      <td>1.513620</td>\n",
       "      <td>1.457985</td>\n",
       "      <td>1.549947</td>\n",
       "      <td>1.604411</td>\n",
       "      <td>1.589300</td>\n",
       "    </tr>\n",
       "    <tr>\n",
       "      <th>2</th>\n",
       "      <td>1247</td>\n",
       "      <td>1</td>\n",
       "      <td>1949-07-13</td>\n",
       "      <td>NaN</td>\n",
       "      <td>//</td>\n",
       "      <td>2021-07-23</td>\n",
       "      <td>85.802740</td>\n",
       "      <td>1</td>\n",
       "      <td>1682310.916</td>\n",
       "      <td>0.863529</td>\n",
       "      <td>...</td>\n",
       "      <td>1.034929</td>\n",
       "      <td>0.996200</td>\n",
       "      <td>1.094785</td>\n",
       "      <td>1.121078</td>\n",
       "      <td>0.906051</td>\n",
       "      <td>0.815060</td>\n",
       "      <td>0.866736</td>\n",
       "      <td>0.813185</td>\n",
       "      <td>0.877843</td>\n",
       "      <td>0.933986</td>\n",
       "    </tr>\n",
       "    <tr>\n",
       "      <th>3</th>\n",
       "      <td>1274</td>\n",
       "      <td>1</td>\n",
       "      <td>1939-05-19</td>\n",
       "      <td>NaN</td>\n",
       "      <td>//</td>\n",
       "      <td>2021-04-16</td>\n",
       "      <td>78.101370</td>\n",
       "      <td>1</td>\n",
       "      <td>1409945.291</td>\n",
       "      <td>0.917792</td>\n",
       "      <td>...</td>\n",
       "      <td>1.613651</td>\n",
       "      <td>1.602802</td>\n",
       "      <td>1.541347</td>\n",
       "      <td>1.476991</td>\n",
       "      <td>0.863824</td>\n",
       "      <td>0.868055</td>\n",
       "      <td>1.031739</td>\n",
       "      <td>1.030657</td>\n",
       "      <td>1.177117</td>\n",
       "      <td>1.204226</td>\n",
       "    </tr>\n",
       "    <tr>\n",
       "      <th>4</th>\n",
       "      <td>1407</td>\n",
       "      <td>1</td>\n",
       "      <td>1935-08-06</td>\n",
       "      <td>NaN</td>\n",
       "      <td>//</td>\n",
       "      <td>2021-04-16</td>\n",
       "      <td>65.753425</td>\n",
       "      <td>1</td>\n",
       "      <td>1381377.973</td>\n",
       "      <td>0.836405</td>\n",
       "      <td>...</td>\n",
       "      <td>1.254035</td>\n",
       "      <td>1.219716</td>\n",
       "      <td>1.246334</td>\n",
       "      <td>1.309690</td>\n",
       "      <td>0.820325</td>\n",
       "      <td>0.841339</td>\n",
       "      <td>0.752240</td>\n",
       "      <td>0.735306</td>\n",
       "      <td>0.645981</td>\n",
       "      <td>0.905331</td>\n",
       "    </tr>\n",
       "  </tbody>\n",
       "</table>\n",
       "<p>5 rows × 135 columns</p>\n",
       "</div>"
      ],
      "text/plain": [
       "   pidn  gender    birthday  Unnamed: 3 Unnamed: 4   case_date        age  \\\n",
       "0   118       1  1959-05-24         NaN         //  2020-05-06  60.994521   \n",
       "1   635       0  1947-02-21         NaN         //  2021-09-04  74.586301   \n",
       "2  1247       1  1949-07-13         NaN         //  2021-07-23  85.802740   \n",
       "3  1274       1  1939-05-19         NaN         //  2021-04-16  78.101370   \n",
       "4  1407       1  1935-08-06         NaN         //  2021-04-16  65.753425   \n",
       "\n",
       "   diagnosis         etiv  stage I-IIboth  ...  PutamenL  PutamenR  PallidumL  \\\n",
       "0          1  1718944.373        1.186645  ...  1.025486  1.047465   1.144742   \n",
       "1          1  1509385.466        1.486503  ...  1.413219  1.438028   1.164178   \n",
       "2          1  1682310.916        0.863529  ...  1.034929  0.996200   1.094785   \n",
       "3          1  1409945.291        0.917792  ...  1.613651  1.602802   1.541347   \n",
       "4          1  1381377.973        0.836405  ...  1.254035  1.219716   1.246334   \n",
       "\n",
       "   PallidumR  HippocampusL  HippocampusR  AmygdalaL  AmygdalaR  AccumbensL  \\\n",
       "0   1.117940      1.232588      1.322048   1.060368   1.004850    0.927153   \n",
       "1   1.277366      1.401264      1.513620   1.457985   1.549947    1.604411   \n",
       "2   1.121078      0.906051      0.815060   0.866736   0.813185    0.877843   \n",
       "3   1.476991      0.863824      0.868055   1.031739   1.030657    1.177117   \n",
       "4   1.309690      0.820325      0.841339   0.752240   0.735306    0.645981   \n",
       "\n",
       "   AccumbensR  \n",
       "0    0.906127  \n",
       "1    1.589300  \n",
       "2    0.933986  \n",
       "3    1.204226  \n",
       "4    0.905331  \n",
       "\n",
       "[5 rows x 135 columns]"
      ]
     },
     "execution_count": 2,
     "metadata": {},
     "output_type": "execute_result"
    }
   ],
   "source": [
    "data = pandas.read_csv(os.path.join('..', 'data', 'ROI_OrderKey_ROISignal_20220625.csv'))\n",
    "data.diagnosis.replace({'disease':1, 'normal':0}, inplace=True)\n",
    "data.head()"
   ]
  },
  {
   "cell_type": "code",
   "execution_count": 3,
   "id": "c9e3405c",
   "metadata": {},
   "outputs": [],
   "source": [
    "data.etiv.fillna(data.etiv.median(), inplace=True)"
   ]
  },
  {
   "cell_type": "code",
   "execution_count": 4,
   "id": "b65bf531",
   "metadata": {},
   "outputs": [],
   "source": [
    "biomarkers = ['Frontal_lobeboth', 'Temporal_lobeboth', 'Occipital_lobeboth', 'Parietal_lobeboth', 'Thalamusboth', 'Caudateboth', 'Putamenboth', 'Pallidumboth', 'Midbrainboth', 'Cerebellum_Crusboth']"
   ]
  },
  {
   "cell_type": "code",
   "execution_count": 5,
   "id": "a84fe186",
   "metadata": {},
   "outputs": [
    {
     "name": "stderr",
     "output_type": "stream",
     "text": [
      "C:\\Users\\USER\\anaconda3\\envs\\d2is\\lib\\site-packages\\sklearn\\cluster\\_kmeans.py:1332: UserWarning: KMeans is known to have a memory leak on Windows with MKL, when there are less chunks than available threads. You can avoid it by setting the environment variable OMP_NUM_THREADS=2.\n",
      "  warnings.warn(\n",
      "C:\\Users\\USER\\AppData\\Local\\Temp\\ipykernel_4812\\790800114.py:10: SettingWithCopyWarning: \n",
      "A value is trying to be set on a copy of a slice from a DataFrame.\n",
      "Try using .loc[row_indexer,col_indexer] = value instead\n",
      "\n",
      "See the caveats in the documentation: https://pandas.pydata.org/pandas-docs/stable/user_guide/indexing.html#returning-a-view-versus-a-copy\n",
      "  temp_data['label'] = clf.fit_predict(temp_data)\n",
      "C:\\Users\\USER\\anaconda3\\envs\\d2is\\lib\\site-packages\\sklearn\\cluster\\_kmeans.py:1332: UserWarning: KMeans is known to have a memory leak on Windows with MKL, when there are less chunks than available threads. You can avoid it by setting the environment variable OMP_NUM_THREADS=2.\n",
      "  warnings.warn(\n",
      "C:\\Users\\USER\\AppData\\Local\\Temp\\ipykernel_4812\\790800114.py:10: SettingWithCopyWarning: \n",
      "A value is trying to be set on a copy of a slice from a DataFrame.\n",
      "Try using .loc[row_indexer,col_indexer] = value instead\n",
      "\n",
      "See the caveats in the documentation: https://pandas.pydata.org/pandas-docs/stable/user_guide/indexing.html#returning-a-view-versus-a-copy\n",
      "  temp_data['label'] = clf.fit_predict(temp_data)\n",
      "C:\\Users\\USER\\anaconda3\\envs\\d2is\\lib\\site-packages\\sklearn\\cluster\\_kmeans.py:1332: UserWarning: KMeans is known to have a memory leak on Windows with MKL, when there are less chunks than available threads. You can avoid it by setting the environment variable OMP_NUM_THREADS=2.\n",
      "  warnings.warn(\n",
      "C:\\Users\\USER\\AppData\\Local\\Temp\\ipykernel_4812\\790800114.py:10: SettingWithCopyWarning: \n",
      "A value is trying to be set on a copy of a slice from a DataFrame.\n",
      "Try using .loc[row_indexer,col_indexer] = value instead\n",
      "\n",
      "See the caveats in the documentation: https://pandas.pydata.org/pandas-docs/stable/user_guide/indexing.html#returning-a-view-versus-a-copy\n",
      "  temp_data['label'] = clf.fit_predict(temp_data)\n",
      "C:\\Users\\USER\\anaconda3\\envs\\d2is\\lib\\site-packages\\sklearn\\cluster\\_kmeans.py:1332: UserWarning: KMeans is known to have a memory leak on Windows with MKL, when there are less chunks than available threads. You can avoid it by setting the environment variable OMP_NUM_THREADS=2.\n",
      "  warnings.warn(\n",
      "C:\\Users\\USER\\AppData\\Local\\Temp\\ipykernel_4812\\790800114.py:10: SettingWithCopyWarning: \n",
      "A value is trying to be set on a copy of a slice from a DataFrame.\n",
      "Try using .loc[row_indexer,col_indexer] = value instead\n",
      "\n",
      "See the caveats in the documentation: https://pandas.pydata.org/pandas-docs/stable/user_guide/indexing.html#returning-a-view-versus-a-copy\n",
      "  temp_data['label'] = clf.fit_predict(temp_data)\n",
      "C:\\Users\\USER\\anaconda3\\envs\\d2is\\lib\\site-packages\\sklearn\\cluster\\_kmeans.py:1332: UserWarning: KMeans is known to have a memory leak on Windows with MKL, when there are less chunks than available threads. You can avoid it by setting the environment variable OMP_NUM_THREADS=2.\n",
      "  warnings.warn(\n",
      "C:\\Users\\USER\\AppData\\Local\\Temp\\ipykernel_4812\\790800114.py:10: SettingWithCopyWarning: \n",
      "A value is trying to be set on a copy of a slice from a DataFrame.\n",
      "Try using .loc[row_indexer,col_indexer] = value instead\n",
      "\n",
      "See the caveats in the documentation: https://pandas.pydata.org/pandas-docs/stable/user_guide/indexing.html#returning-a-view-versus-a-copy\n",
      "  temp_data['label'] = clf.fit_predict(temp_data)\n",
      "C:\\Users\\USER\\anaconda3\\envs\\d2is\\lib\\site-packages\\sklearn\\cluster\\_kmeans.py:1332: UserWarning: KMeans is known to have a memory leak on Windows with MKL, when there are less chunks than available threads. You can avoid it by setting the environment variable OMP_NUM_THREADS=2.\n",
      "  warnings.warn(\n",
      "C:\\Users\\USER\\AppData\\Local\\Temp\\ipykernel_4812\\790800114.py:10: SettingWithCopyWarning: \n",
      "A value is trying to be set on a copy of a slice from a DataFrame.\n",
      "Try using .loc[row_indexer,col_indexer] = value instead\n",
      "\n",
      "See the caveats in the documentation: https://pandas.pydata.org/pandas-docs/stable/user_guide/indexing.html#returning-a-view-versus-a-copy\n",
      "  temp_data['label'] = clf.fit_predict(temp_data)\n",
      "C:\\Users\\USER\\anaconda3\\envs\\d2is\\lib\\site-packages\\sklearn\\cluster\\_kmeans.py:1332: UserWarning: KMeans is known to have a memory leak on Windows with MKL, when there are less chunks than available threads. You can avoid it by setting the environment variable OMP_NUM_THREADS=2.\n",
      "  warnings.warn(\n",
      "C:\\Users\\USER\\AppData\\Local\\Temp\\ipykernel_4812\\790800114.py:10: SettingWithCopyWarning: \n",
      "A value is trying to be set on a copy of a slice from a DataFrame.\n",
      "Try using .loc[row_indexer,col_indexer] = value instead\n",
      "\n",
      "See the caveats in the documentation: https://pandas.pydata.org/pandas-docs/stable/user_guide/indexing.html#returning-a-view-versus-a-copy\n",
      "  temp_data['label'] = clf.fit_predict(temp_data)\n",
      "C:\\Users\\USER\\anaconda3\\envs\\d2is\\lib\\site-packages\\sklearn\\cluster\\_kmeans.py:1332: UserWarning: KMeans is known to have a memory leak on Windows with MKL, when there are less chunks than available threads. You can avoid it by setting the environment variable OMP_NUM_THREADS=2.\n",
      "  warnings.warn(\n",
      "C:\\Users\\USER\\AppData\\Local\\Temp\\ipykernel_4812\\790800114.py:10: SettingWithCopyWarning: \n",
      "A value is trying to be set on a copy of a slice from a DataFrame.\n",
      "Try using .loc[row_indexer,col_indexer] = value instead\n",
      "\n",
      "See the caveats in the documentation: https://pandas.pydata.org/pandas-docs/stable/user_guide/indexing.html#returning-a-view-versus-a-copy\n",
      "  temp_data['label'] = clf.fit_predict(temp_data)\n",
      "C:\\Users\\USER\\anaconda3\\envs\\d2is\\lib\\site-packages\\sklearn\\cluster\\_kmeans.py:1332: UserWarning: KMeans is known to have a memory leak on Windows with MKL, when there are less chunks than available threads. You can avoid it by setting the environment variable OMP_NUM_THREADS=2.\n",
      "  warnings.warn(\n",
      "C:\\Users\\USER\\AppData\\Local\\Temp\\ipykernel_4812\\790800114.py:10: SettingWithCopyWarning: \n",
      "A value is trying to be set on a copy of a slice from a DataFrame.\n",
      "Try using .loc[row_indexer,col_indexer] = value instead\n",
      "\n",
      "See the caveats in the documentation: https://pandas.pydata.org/pandas-docs/stable/user_guide/indexing.html#returning-a-view-versus-a-copy\n",
      "  temp_data['label'] = clf.fit_predict(temp_data)\n",
      "C:\\Users\\USER\\anaconda3\\envs\\d2is\\lib\\site-packages\\sklearn\\cluster\\_kmeans.py:1332: UserWarning: KMeans is known to have a memory leak on Windows with MKL, when there are less chunks than available threads. You can avoid it by setting the environment variable OMP_NUM_THREADS=2.\n",
      "  warnings.warn(\n",
      "C:\\Users\\USER\\AppData\\Local\\Temp\\ipykernel_4812\\790800114.py:10: SettingWithCopyWarning: \n",
      "A value is trying to be set on a copy of a slice from a DataFrame.\n",
      "Try using .loc[row_indexer,col_indexer] = value instead\n",
      "\n",
      "See the caveats in the documentation: https://pandas.pydata.org/pandas-docs/stable/user_guide/indexing.html#returning-a-view-versus-a-copy\n",
      "  temp_data['label'] = clf.fit_predict(temp_data)\n"
     ]
    }
   ],
   "source": [
    "# now we perform the normalization\n",
    "from sklearn.mixture import GaussianMixture\n",
    "# make a copy of our dataframe (we don't want to overwrite our original data)\n",
    "zdata = pandas.DataFrame(data,copy=True)\n",
    "\n",
    "# for each biomarker\n",
    "for biomarker in biomarkers:\n",
    "    temp_data = data[[biomarker]]\n",
    "    clf = GaussianMixture(n_components=2, covariance_type='full')\n",
    "    temp_data['label'] = clf.fit_predict(temp_data)\n",
    "    mean_value = np.mean(temp_data[temp_data.label ==0][biomarker])\n",
    "    std_value = np.std(temp_data[temp_data.label ==0][biomarker])\n",
    "    z_score = (data.loc[:,biomarker] - mean_value) / std_value\n",
    "    # save zscore back into our new (copied) dataframe\n",
    "    zdata.loc[:,biomarker] = z_score"
   ]
  },
  {
   "cell_type": "code",
   "execution_count": 6,
   "id": "df337325",
   "metadata": {},
   "outputs": [],
   "source": [
    "N = len(biomarkers)         # number of biomarkers\n",
    "\n",
    "SuStaInLabels = biomarkers\n",
    "Z_vals = np.array([[1,2,3]]*N)     # Z-scores for each biomarker\n",
    "Z_max  = np.array([5]*N)           # maximum z-score"
   ]
  },
  {
   "cell_type": "markdown",
   "id": "c1dd351a",
   "metadata": {},
   "source": [
    "Choosing the settings\n",
    "The SuStaIn algorithm requires the following inputs.\n",
    "\n",
    "data\n",
    "The data you want to run SuStaIn on, of size M subjects by N biomarkers. This needs to be z-scored in the way described in the previous section.\n",
    "\n",
    "Z_vals\n",
    "This is the set of z-scores you want to include for each biomarker. The more z-scores you use the longer the SuStaIn algorithm will take to run. Z_vals has size N biomarkers by Z z-scores. If you have more z-scores for some biomarkers than others you can simply leave zeros at the end of biomarker rows with fewer z-scores.\n",
    "\n",
    "Z_max\n",
    "The maximum z-score reached at the end of the progression, with size N biomarkers by 1. I'd suggest choosing a value around the 95th percentile of your data but you can experiment with different values. I typically choose an integer for interpretability but you don't have to.\n",
    "\n",
    "SuStaInLabels\n",
    "The names of the biomarkers you are using, for plotting purposes.\n",
    "\n",
    "N_startpoints\n",
    "The number of startpoints to use when fitting the subtypes hierarchichally. I'd suggest using 25.\n",
    "\n",
    "N_S_max\n",
    "The maximum number of subtypes to fit. I'd suggest starting with a lower number - maybe three - and then increasing that if you're getting a significantly better fit with the maximum number of subtypes. You can judge this roughly from the MCMC plot. To properly evaluate the optimal number of subtypes you need to run cross-validation.\n",
    "\n",
    "N_iterations_MCMC\n",
    "The number of iterations for the MCMC sampling of the uncertainty in the progression pattern. I'd recommend using 1x10^5 or 1x10^6.\n",
    "\n",
    "output_folder\n",
    "Choose an output folder for the results.\n",
    "\n",
    "dataset_name\n",
    "Name the results files outputted by SuStaIn.\n",
    "\n",
    "use_parellel_startpoints\n",
    "Boolean for whether or not to parallelize the startpoints."
   ]
  },
  {
   "cell_type": "code",
   "execution_count": 7,
   "id": "90d30ef0",
   "metadata": {},
   "outputs": [],
   "source": [
    "# Input the settings for z-score SuStaIn\n",
    "# To make the tutorial run faster I've set \n",
    "# N_startpoints = 10 and N_iterations_MCMC = int(1e4)\n",
    "# I recommend using N_startpoints = 25 and \n",
    "# N_iterations_MCMC = int(1e5) or int(1e6) in general though\n",
    "\n",
    "N_startpoints = 25\n",
    "N_S_max = 5\n",
    "N_iterations_MCMC = int(1e5)\n",
    "output_folder = os.path.join(os.getcwd(), 'KaoZscoreOutput')\n",
    "dataset_name = 'KaoZscoreOutput'\n",
    "\n",
    "# Initiate the SuStaIn object\n",
    "sustain_input = pySuStaIn.ZscoreSustain(\n",
    "                              zdata[biomarkers].values,\n",
    "                              Z_vals,\n",
    "                              Z_max,\n",
    "                              SuStaInLabels,\n",
    "                              N_startpoints,\n",
    "                              N_S_max, \n",
    "                              N_iterations_MCMC, \n",
    "                              output_folder, \n",
    "                              dataset_name, \n",
    "                              False)"
   ]
  },
  {
   "cell_type": "code",
   "execution_count": 8,
   "id": "7d75c36f",
   "metadata": {},
   "outputs": [],
   "source": [
    "# make the output directory if it's not already created\n",
    "if not os.path.isdir(output_folder):\n",
    "    os.mkdir(output_folder)"
   ]
  },
  {
   "cell_type": "code",
   "execution_count": 9,
   "id": "abd49e83",
   "metadata": {},
   "outputs": [
    {
     "name": "stdout",
     "output_type": "stream",
     "text": [
      "Failed to find pickle file: D:\\Projects\\d2is\\pySustain\\KaoRevisedOutput\\pickle_files\\KaoRevisedOutput_subtype0.pickle. Running SuStaIn model for 0 subtype.\n",
      "Finding ML solution to 1 cluster problem\n",
      "Overall ML likelihood is -8399.462602124622\n"
     ]
    },
    {
     "data": {
      "application/vnd.jupyter.widget-view+json": {
       "model_id": "026c1787c7e74e1591dafdaf5529cc88",
       "version_major": 2,
       "version_minor": 0
      },
      "text/plain": [
       "MCMC Iteration:   0%|          | 0/10000 [00:00<?, ?it/s]"
      ]
     },
     "metadata": {},
     "output_type": "display_data"
    },
    {
     "data": {
      "application/vnd.jupyter.widget-view+json": {
       "model_id": "65a855f3b712498e9f411e2572512354",
       "version_major": 2,
       "version_minor": 0
      },
      "text/plain": [
       "MCMC Iteration:   0%|          | 0/10000 [00:00<?, ?it/s]"
      ]
     },
     "metadata": {},
     "output_type": "display_data"
    },
    {
     "data": {
      "application/vnd.jupyter.widget-view+json": {
       "model_id": "7a74d75eaa114c8d90510613d65241b4",
       "version_major": 2,
       "version_minor": 0
      },
      "text/plain": [
       "MCMC Iteration:   0%|          | 0/10000 [00:00<?, ?it/s]"
      ]
     },
     "metadata": {},
     "output_type": "display_data"
    },
    {
     "data": {
      "application/vnd.jupyter.widget-view+json": {
       "model_id": "1322b3ea796c4e4986590cce006a01da",
       "version_major": 2,
       "version_minor": 0
      },
      "text/plain": [
       "MCMC Iteration:   0%|          | 0/100000 [00:00<?, ?it/s]"
      ]
     },
     "metadata": {},
     "output_type": "display_data"
    },
    {
     "name": "stdout",
     "output_type": "stream",
     "text": [
      "Failed to find pickle file: D:\\Projects\\d2is\\pySustain\\KaoRevisedOutput\\pickle_files\\KaoRevisedOutput_subtype1.pickle. Running SuStaIn model for 1 subtype.\n",
      "Splitting cluster 1 of 1\n",
      " + Resolving 2 cluster problem\n",
      " + Finding ML solution from hierarchical initialisation\n",
      "- ML likelihood is [-8112.74500392]\n",
      "Overall ML likelihood is [-8112.74500392]\n"
     ]
    },
    {
     "data": {
      "application/vnd.jupyter.widget-view+json": {
       "model_id": "4fd1fd6b68c74b67bde85009b557b754",
       "version_major": 2,
       "version_minor": 0
      },
      "text/plain": [
       "MCMC Iteration:   0%|          | 0/10000 [00:00<?, ?it/s]"
      ]
     },
     "metadata": {},
     "output_type": "display_data"
    },
    {
     "data": {
      "application/vnd.jupyter.widget-view+json": {
       "model_id": "218aa4cce43547309209bb5b6aa6c2e2",
       "version_major": 2,
       "version_minor": 0
      },
      "text/plain": [
       "MCMC Iteration:   0%|          | 0/10000 [00:00<?, ?it/s]"
      ]
     },
     "metadata": {},
     "output_type": "display_data"
    },
    {
     "data": {
      "application/vnd.jupyter.widget-view+json": {
       "model_id": "8db8b397633240e5943a4263b77012f2",
       "version_major": 2,
       "version_minor": 0
      },
      "text/plain": [
       "MCMC Iteration:   0%|          | 0/10000 [00:00<?, ?it/s]"
      ]
     },
     "metadata": {},
     "output_type": "display_data"
    },
    {
     "data": {
      "application/vnd.jupyter.widget-view+json": {
       "model_id": "1340039bd1794493adb42e60e88dd827",
       "version_major": 2,
       "version_minor": 0
      },
      "text/plain": [
       "MCMC Iteration:   0%|          | 0/100000 [00:00<?, ?it/s]"
      ]
     },
     "metadata": {},
     "output_type": "display_data"
    },
    {
     "name": "stdout",
     "output_type": "stream",
     "text": [
      "Failed to find pickle file: D:\\Projects\\d2is\\pySustain\\KaoRevisedOutput\\pickle_files\\KaoRevisedOutput_subtype2.pickle. Running SuStaIn model for 2 subtype.\n",
      "Splitting cluster 1 of 2\n",
      " + Resolving 2 cluster problem\n",
      " + Finding ML solution from hierarchical initialisation\n",
      "- ML likelihood is [-8088.26425255]\n",
      "Splitting cluster 2 of 2\n",
      " + Resolving 2 cluster problem\n",
      " + Finding ML solution from hierarchical initialisation\n",
      "- ML likelihood is [-8059.03523852]\n",
      "Overall ML likelihood is [-8059.03523852]\n"
     ]
    },
    {
     "data": {
      "application/vnd.jupyter.widget-view+json": {
       "model_id": "44db0b60b6b1479fbe135dd2d27fa70c",
       "version_major": 2,
       "version_minor": 0
      },
      "text/plain": [
       "MCMC Iteration:   0%|          | 0/10000 [00:00<?, ?it/s]"
      ]
     },
     "metadata": {},
     "output_type": "display_data"
    },
    {
     "data": {
      "application/vnd.jupyter.widget-view+json": {
       "model_id": "22bfa5292fb54feb8c8b4c31f41d2407",
       "version_major": 2,
       "version_minor": 0
      },
      "text/plain": [
       "MCMC Iteration:   0%|          | 0/10000 [00:00<?, ?it/s]"
      ]
     },
     "metadata": {},
     "output_type": "display_data"
    },
    {
     "data": {
      "application/vnd.jupyter.widget-view+json": {
       "model_id": "40062a52daa44d09ab4fec1c0363ebd2",
       "version_major": 2,
       "version_minor": 0
      },
      "text/plain": [
       "MCMC Iteration:   0%|          | 0/10000 [00:00<?, ?it/s]"
      ]
     },
     "metadata": {},
     "output_type": "display_data"
    },
    {
     "data": {
      "application/vnd.jupyter.widget-view+json": {
       "model_id": "de1af34cf56543b99f0ee9e9f928a8d2",
       "version_major": 2,
       "version_minor": 0
      },
      "text/plain": [
       "MCMC Iteration:   0%|          | 0/100000 [00:00<?, ?it/s]"
      ]
     },
     "metadata": {},
     "output_type": "display_data"
    },
    {
     "name": "stdout",
     "output_type": "stream",
     "text": [
      "Failed to find pickle file: D:\\Projects\\d2is\\pySustain\\KaoRevisedOutput\\pickle_files\\KaoRevisedOutput_subtype3.pickle. Running SuStaIn model for 3 subtype.\n",
      "Splitting cluster 1 of 3\n",
      " + Resolving 2 cluster problem\n",
      " + Finding ML solution from hierarchical initialisation\n",
      "- ML likelihood is [-8040.3343284]\n",
      "Splitting cluster 2 of 3\n",
      " + Resolving 2 cluster problem\n",
      " + Finding ML solution from hierarchical initialisation\n",
      "- ML likelihood is [-8052.80695018]\n",
      "Splitting cluster 3 of 3\n",
      " + Resolving 2 cluster problem\n",
      " + Finding ML solution from hierarchical initialisation\n",
      "- ML likelihood is [-8052.15345303]\n",
      "Overall ML likelihood is [-8040.3343284]\n"
     ]
    },
    {
     "data": {
      "application/vnd.jupyter.widget-view+json": {
       "model_id": "1b913e7576ce49d8b3151cfefcff9d6b",
       "version_major": 2,
       "version_minor": 0
      },
      "text/plain": [
       "MCMC Iteration:   0%|          | 0/10000 [00:00<?, ?it/s]"
      ]
     },
     "metadata": {},
     "output_type": "display_data"
    },
    {
     "data": {
      "application/vnd.jupyter.widget-view+json": {
       "model_id": "714ee1eb23054136a282a7ac191e12af",
       "version_major": 2,
       "version_minor": 0
      },
      "text/plain": [
       "MCMC Iteration:   0%|          | 0/10000 [00:00<?, ?it/s]"
      ]
     },
     "metadata": {},
     "output_type": "display_data"
    },
    {
     "data": {
      "application/vnd.jupyter.widget-view+json": {
       "model_id": "f88f42a0d8bd4814904003ec89b4a840",
       "version_major": 2,
       "version_minor": 0
      },
      "text/plain": [
       "MCMC Iteration:   0%|          | 0/10000 [00:00<?, ?it/s]"
      ]
     },
     "metadata": {},
     "output_type": "display_data"
    },
    {
     "data": {
      "application/vnd.jupyter.widget-view+json": {
       "model_id": "2ca146eb860a430594eedd4520831911",
       "version_major": 2,
       "version_minor": 0
      },
      "text/plain": [
       "MCMC Iteration:   0%|          | 0/100000 [00:00<?, ?it/s]"
      ]
     },
     "metadata": {},
     "output_type": "display_data"
    },
    {
     "name": "stdout",
     "output_type": "stream",
     "text": [
      "Failed to find pickle file: D:\\Projects\\d2is\\pySustain\\KaoRevisedOutput\\pickle_files\\KaoRevisedOutput_subtype4.pickle. Running SuStaIn model for 4 subtype.\n",
      "Splitting cluster 1 of 4\n",
      " + Resolving 2 cluster problem\n",
      " + Finding ML solution from hierarchical initialisation\n",
      "- ML likelihood is [-8034.89352814]\n",
      "Splitting cluster 2 of 4\n",
      " + Resolving 2 cluster problem\n",
      " + Finding ML solution from hierarchical initialisation\n",
      "- ML likelihood is [-8034.66200305]\n",
      "Splitting cluster 3 of 4\n",
      " + Resolving 2 cluster problem\n",
      " + Finding ML solution from hierarchical initialisation\n",
      "- ML likelihood is [-8033.85457528]\n",
      "Splitting cluster 4 of 4\n",
      " + Resolving 2 cluster problem\n",
      " + Finding ML solution from hierarchical initialisation\n",
      "- ML likelihood is [-8034.39869115]\n",
      "Overall ML likelihood is [-8033.85457528]\n"
     ]
    },
    {
     "data": {
      "application/vnd.jupyter.widget-view+json": {
       "model_id": "c08516c689c84dd69586bfb31f442918",
       "version_major": 2,
       "version_minor": 0
      },
      "text/plain": [
       "MCMC Iteration:   0%|          | 0/10000 [00:00<?, ?it/s]"
      ]
     },
     "metadata": {},
     "output_type": "display_data"
    },
    {
     "data": {
      "application/vnd.jupyter.widget-view+json": {
       "model_id": "6bdb46a50b7b4b41a1ebbe5e21c1fefd",
       "version_major": 2,
       "version_minor": 0
      },
      "text/plain": [
       "MCMC Iteration:   0%|          | 0/10000 [00:00<?, ?it/s]"
      ]
     },
     "metadata": {},
     "output_type": "display_data"
    },
    {
     "data": {
      "application/vnd.jupyter.widget-view+json": {
       "model_id": "e453df2478e64caaab33a52504cd33db",
       "version_major": 2,
       "version_minor": 0
      },
      "text/plain": [
       "MCMC Iteration:   0%|          | 0/10000 [00:00<?, ?it/s]"
      ]
     },
     "metadata": {},
     "output_type": "display_data"
    },
    {
     "data": {
      "application/vnd.jupyter.widget-view+json": {
       "model_id": "a70dd6b04b0a4dc390d177ee1c213948",
       "version_major": 2,
       "version_minor": 0
      },
      "text/plain": [
       "MCMC Iteration:   0%|          | 0/100000 [00:00<?, ?it/s]"
      ]
     },
     "metadata": {},
     "output_type": "display_data"
    }
   ],
   "source": [
    "samples_sequence,   \\\n",
    "samples_f,          \\\n",
    "ml_subtype,         \\\n",
    "prob_ml_subtype,    \\\n",
    "ml_stage,           \\\n",
    "prob_ml_stage,      \\\n",
    "prob_subtype_stage  = sustain_input.run_sustain_algorithm()"
   ]
  },
  {
   "cell_type": "code",
   "execution_count": 10,
   "id": "7abe48d4",
   "metadata": {},
   "outputs": [
    {
     "data": {
      "image/png": "[encoded data removed]",
      "text/plain": [
       "<Figure size 432x288 with 1 Axes>"
      ]
     },
     "metadata": {
      "needs_background": "light"
     },
     "output_type": "display_data"
    },
    {
     "data": {
      "image/png": "[encoded data removed]",
      "text/plain": [
       "<Figure size 432x288 with 1 Axes>"
      ]
     },
     "metadata": {
      "needs_background": "light"
     },
     "output_type": "display_data"
    }
   ],
   "source": [
    "# for each subtype model\n",
    "for s in range(N_S_max):\n",
    "    # load pickle file (SuStaIn output) and get the sample log likelihood values\n",
    "    pickle_filename_s = output_folder + '/pickle_files/' + dataset_name + '_subtype' + str(s) + '.pickle'\n",
    "    pk = pandas.read_pickle(pickle_filename_s)\n",
    "    samples_likelihood = pk[\"samples_likelihood\"]\n",
    "    \n",
    "    # plot the values as a line plot\n",
    "    plt.figure(0)\n",
    "    plt.plot(range(N_iterations_MCMC), samples_likelihood, label=\"subtype\" + str(s+1))\n",
    "    plt.legend(loc='upper right')\n",
    "    plt.xlabel('MCMC samples')\n",
    "    plt.ylabel('Log likelihood')\n",
    "    plt.title('MCMC trace')\n",
    "    \n",
    "    # plot the values as a histogramp plot\n",
    "    plt.figure(1)\n",
    "    plt.hist(samples_likelihood, label=\"subtype\" + str(s+1))\n",
    "    plt.legend(loc='upper right')\n",
    "    plt.xlabel('Log likelihood')  \n",
    "    plt.ylabel('Number of samples')  \n",
    "    plt.title('Histograms of model likelihood')\n"
   ]
  },
  {
   "cell_type": "code",
   "execution_count": 17,
   "id": "44ee3612",
   "metadata": {},
   "outputs": [
    {
     "data": {
      "image/png": "[encoded data removed]",
      "text/plain": [
       "<Figure size 3600x1800 with 4 Axes>"
      ]
     },
     "metadata": {
      "needs_background": "light"
     },
     "output_type": "display_data"
    }
   ],
   "source": [
    "# Let's plot positional variance diagrams to interpret the subtype progressions\n",
    "\n",
    "s = 2 # 1 split = 2 subtypes\n",
    "M = len(zdata) \n",
    "\n",
    "# get the sample sequences and f\n",
    "pickle_filename_s = output_folder + '/pickle_files/' + dataset_name + '_subtype' + str(s) + '.pickle'\n",
    "pk = pandas.read_pickle(pickle_filename_s)\n",
    "samples_sequence = pk[\"samples_sequence\"]\n",
    "samples_f = pk[\"samples_f\"]\n",
    "\n",
    "# use this information to plot the positional variance diagrams\n",
    "tmp=pySuStaIn.ZscoreSustain._plot_sustain_model(sustain_input,\n",
    "                                                samples_sequence,\n",
    "                                                samples_f,\n",
    "                                                M,\n",
    "                                                biomarker_labels=biomarkers,\n",
    "                                                figsize=(50, 25),\n",
    "                                                title_font_size=30, \n",
    "                                                stage_font_size=20,\n",
    "                                                label_font_size=30)"
   ]
  },
  {
   "cell_type": "code",
   "execution_count": 12,
   "id": "a6536ede",
   "metadata": {},
   "outputs": [
    {
     "data": {
      "text/html": [
       "<div>\n",
       "<style scoped>\n",
       "    .dataframe tbody tr th:only-of-type {\n",
       "        vertical-align: middle;\n",
       "    }\n",
       "\n",
       "    .dataframe tbody tr th {\n",
       "        vertical-align: top;\n",
       "    }\n",
       "\n",
       "    .dataframe thead th {\n",
       "        text-align: right;\n",
       "    }\n",
       "</style>\n",
       "<table border=\"1\" class=\"dataframe\">\n",
       "  <thead>\n",
       "    <tr style=\"text-align: right;\">\n",
       "      <th></th>\n",
       "      <th>pidn</th>\n",
       "      <th>gender</th>\n",
       "      <th>birthday</th>\n",
       "      <th>Unnamed: 3</th>\n",
       "      <th>Unnamed: 4</th>\n",
       "      <th>case_date</th>\n",
       "      <th>age</th>\n",
       "      <th>diagnosis</th>\n",
       "      <th>etiv</th>\n",
       "      <th>stage I-IIboth</th>\n",
       "      <th>...</th>\n",
       "      <th>HippocampusR</th>\n",
       "      <th>AmygdalaL</th>\n",
       "      <th>AmygdalaR</th>\n",
       "      <th>AccumbensL</th>\n",
       "      <th>AccumbensR</th>\n",
       "      <th>ml_subtype</th>\n",
       "      <th>prob_ml_subtype</th>\n",
       "      <th>ml_stage</th>\n",
       "      <th>prob_ml_stage</th>\n",
       "      <th>prob_S0</th>\n",
       "    </tr>\n",
       "  </thead>\n",
       "  <tbody>\n",
       "    <tr>\n",
       "      <th>0</th>\n",
       "      <td>118</td>\n",
       "      <td>1</td>\n",
       "      <td>1959-05-24</td>\n",
       "      <td>NaN</td>\n",
       "      <td>//</td>\n",
       "      <td>2020-05-06</td>\n",
       "      <td>60.994521</td>\n",
       "      <td>1</td>\n",
       "      <td>1718944.373</td>\n",
       "      <td>1.186645</td>\n",
       "      <td>...</td>\n",
       "      <td>1.322048</td>\n",
       "      <td>1.060368</td>\n",
       "      <td>1.004850</td>\n",
       "      <td>0.927153</td>\n",
       "      <td>0.906127</td>\n",
       "      <td>0.0</td>\n",
       "      <td>0.833085</td>\n",
       "      <td>1.0</td>\n",
       "      <td>0.302397</td>\n",
       "      <td>8.330849e-01</td>\n",
       "    </tr>\n",
       "    <tr>\n",
       "      <th>1</th>\n",
       "      <td>635</td>\n",
       "      <td>0</td>\n",
       "      <td>1947-02-21</td>\n",
       "      <td>NaN</td>\n",
       "      <td>//</td>\n",
       "      <td>2021-09-04</td>\n",
       "      <td>74.586301</td>\n",
       "      <td>1</td>\n",
       "      <td>1509385.466</td>\n",
       "      <td>1.486503</td>\n",
       "      <td>...</td>\n",
       "      <td>1.513620</td>\n",
       "      <td>1.457985</td>\n",
       "      <td>1.549947</td>\n",
       "      <td>1.604411</td>\n",
       "      <td>1.589300</td>\n",
       "      <td>1.0</td>\n",
       "      <td>1.000000</td>\n",
       "      <td>12.0</td>\n",
       "      <td>0.318955</td>\n",
       "      <td>5.890501e-10</td>\n",
       "    </tr>\n",
       "    <tr>\n",
       "      <th>2</th>\n",
       "      <td>1247</td>\n",
       "      <td>1</td>\n",
       "      <td>1949-07-13</td>\n",
       "      <td>NaN</td>\n",
       "      <td>//</td>\n",
       "      <td>2021-07-23</td>\n",
       "      <td>85.802740</td>\n",
       "      <td>1</td>\n",
       "      <td>1682310.916</td>\n",
       "      <td>0.863529</td>\n",
       "      <td>...</td>\n",
       "      <td>0.815060</td>\n",
       "      <td>0.866736</td>\n",
       "      <td>0.813185</td>\n",
       "      <td>0.877843</td>\n",
       "      <td>0.933986</td>\n",
       "      <td>1.0</td>\n",
       "      <td>0.675785</td>\n",
       "      <td>0.0</td>\n",
       "      <td>0.351540</td>\n",
       "      <td>3.242155e-01</td>\n",
       "    </tr>\n",
       "    <tr>\n",
       "      <th>3</th>\n",
       "      <td>1274</td>\n",
       "      <td>1</td>\n",
       "      <td>1939-05-19</td>\n",
       "      <td>NaN</td>\n",
       "      <td>//</td>\n",
       "      <td>2021-04-16</td>\n",
       "      <td>78.101370</td>\n",
       "      <td>1</td>\n",
       "      <td>1409945.291</td>\n",
       "      <td>0.917792</td>\n",
       "      <td>...</td>\n",
       "      <td>0.868055</td>\n",
       "      <td>1.031739</td>\n",
       "      <td>1.030657</td>\n",
       "      <td>1.177117</td>\n",
       "      <td>1.204226</td>\n",
       "      <td>0.0</td>\n",
       "      <td>0.820447</td>\n",
       "      <td>3.0</td>\n",
       "      <td>0.133568</td>\n",
       "      <td>8.204474e-01</td>\n",
       "    </tr>\n",
       "    <tr>\n",
       "      <th>4</th>\n",
       "      <td>1407</td>\n",
       "      <td>1</td>\n",
       "      <td>1935-08-06</td>\n",
       "      <td>NaN</td>\n",
       "      <td>//</td>\n",
       "      <td>2021-04-16</td>\n",
       "      <td>65.753425</td>\n",
       "      <td>1</td>\n",
       "      <td>1381377.973</td>\n",
       "      <td>0.836405</td>\n",
       "      <td>...</td>\n",
       "      <td>0.841339</td>\n",
       "      <td>0.752240</td>\n",
       "      <td>0.735306</td>\n",
       "      <td>0.645981</td>\n",
       "      <td>0.905331</td>\n",
       "      <td>1.0</td>\n",
       "      <td>0.601419</td>\n",
       "      <td>0.0</td>\n",
       "      <td>0.475577</td>\n",
       "      <td>3.985806e-01</td>\n",
       "    </tr>\n",
       "  </tbody>\n",
       "</table>\n",
       "<p>5 rows × 140 columns</p>\n",
       "</div>"
      ],
      "text/plain": [
       "   pidn  gender    birthday  Unnamed: 3 Unnamed: 4   case_date        age  \\\n",
       "0   118       1  1959-05-24         NaN         //  2020-05-06  60.994521   \n",
       "1   635       0  1947-02-21         NaN         //  2021-09-04  74.586301   \n",
       "2  1247       1  1949-07-13         NaN         //  2021-07-23  85.802740   \n",
       "3  1274       1  1939-05-19         NaN         //  2021-04-16  78.101370   \n",
       "4  1407       1  1935-08-06         NaN         //  2021-04-16  65.753425   \n",
       "\n",
       "   diagnosis         etiv  stage I-IIboth  ...  HippocampusR  AmygdalaL  \\\n",
       "0          1  1718944.373        1.186645  ...      1.322048   1.060368   \n",
       "1          1  1509385.466        1.486503  ...      1.513620   1.457985   \n",
       "2          1  1682310.916        0.863529  ...      0.815060   0.866736   \n",
       "3          1  1409945.291        0.917792  ...      0.868055   1.031739   \n",
       "4          1  1381377.973        0.836405  ...      0.841339   0.752240   \n",
       "\n",
       "   AmygdalaR  AccumbensL  AccumbensR  ml_subtype  prob_ml_subtype  ml_stage  \\\n",
       "0   1.004850    0.927153    0.906127         0.0         0.833085       1.0   \n",
       "1   1.549947    1.604411    1.589300         1.0         1.000000      12.0   \n",
       "2   0.813185    0.877843    0.933986         1.0         0.675785       0.0   \n",
       "3   1.030657    1.177117    1.204226         0.0         0.820447       3.0   \n",
       "4   0.735306    0.645981    0.905331         1.0         0.601419       0.0   \n",
       "\n",
       "   prob_ml_stage       prob_S0  \n",
       "0       0.302397  8.330849e-01  \n",
       "1       0.318955  5.890501e-10  \n",
       "2       0.351540  3.242155e-01  \n",
       "3       0.133568  8.204474e-01  \n",
       "4       0.475577  3.985806e-01  \n",
       "\n",
       "[5 rows x 140 columns]"
      ]
     },
     "execution_count": 12,
     "metadata": {},
     "output_type": "execute_result"
    }
   ],
   "source": [
    "s = 1\n",
    "pickle_filename_s = output_folder + '/pickle_files/' + dataset_name + '_subtype' + str(s) + '.pickle'\n",
    "pk = pandas.read_pickle(pickle_filename_s)\n",
    "\n",
    "for variable in ['ml_subtype', # the assigned subtype\n",
    "                 'prob_ml_subtype', # the probability of the assigned subtype\n",
    "                 'ml_stage', # the assigned stage \n",
    "                 'prob_ml_stage',]: # the probability of the assigned stage\n",
    "    \n",
    "    # add SuStaIn output to dataframe\n",
    "    zdata.loc[:,variable] = pk[variable] \n",
    "\n",
    "# let's also add the probability for each subject of being each subtype\n",
    "for i in range(s):\n",
    "    zdata.loc[:,'prob_S%s'%i] = pk['prob_subtype'][:,i]\n",
    "zdata.head()"
   ]
  },
  {
   "cell_type": "code",
   "execution_count": 13,
   "id": "fc0a536e",
   "metadata": {},
   "outputs": [
    {
     "data": {
      "text/html": [
       "<div>\n",
       "<style scoped>\n",
       "    .dataframe tbody tr th:only-of-type {\n",
       "        vertical-align: middle;\n",
       "    }\n",
       "\n",
       "    .dataframe tbody tr th {\n",
       "        vertical-align: top;\n",
       "    }\n",
       "\n",
       "    .dataframe thead th {\n",
       "        text-align: right;\n",
       "    }\n",
       "</style>\n",
       "<table border=\"1\" class=\"dataframe\">\n",
       "  <thead>\n",
       "    <tr style=\"text-align: right;\">\n",
       "      <th></th>\n",
       "      <th>pidn</th>\n",
       "      <th>gender</th>\n",
       "      <th>birthday</th>\n",
       "      <th>Unnamed: 3</th>\n",
       "      <th>Unnamed: 4</th>\n",
       "      <th>case_date</th>\n",
       "      <th>age</th>\n",
       "      <th>diagnosis</th>\n",
       "      <th>etiv</th>\n",
       "      <th>stage I-IIboth</th>\n",
       "      <th>...</th>\n",
       "      <th>HippocampusR</th>\n",
       "      <th>AmygdalaL</th>\n",
       "      <th>AmygdalaR</th>\n",
       "      <th>AccumbensL</th>\n",
       "      <th>AccumbensR</th>\n",
       "      <th>ml_subtype</th>\n",
       "      <th>prob_ml_subtype</th>\n",
       "      <th>ml_stage</th>\n",
       "      <th>prob_ml_stage</th>\n",
       "      <th>prob_S0</th>\n",
       "    </tr>\n",
       "  </thead>\n",
       "  <tbody>\n",
       "    <tr>\n",
       "      <th>0</th>\n",
       "      <td>118</td>\n",
       "      <td>1</td>\n",
       "      <td>1959-05-24</td>\n",
       "      <td>NaN</td>\n",
       "      <td>//</td>\n",
       "      <td>2020-05-06</td>\n",
       "      <td>60.994521</td>\n",
       "      <td>1</td>\n",
       "      <td>1718944.373</td>\n",
       "      <td>1.186645</td>\n",
       "      <td>...</td>\n",
       "      <td>1.322048</td>\n",
       "      <td>1.060368</td>\n",
       "      <td>1.004850</td>\n",
       "      <td>0.927153</td>\n",
       "      <td>0.906127</td>\n",
       "      <td>1.0</td>\n",
       "      <td>0.833085</td>\n",
       "      <td>1.0</td>\n",
       "      <td>0.302397</td>\n",
       "      <td>8.330849e-01</td>\n",
       "    </tr>\n",
       "    <tr>\n",
       "      <th>1</th>\n",
       "      <td>635</td>\n",
       "      <td>0</td>\n",
       "      <td>1947-02-21</td>\n",
       "      <td>NaN</td>\n",
       "      <td>//</td>\n",
       "      <td>2021-09-04</td>\n",
       "      <td>74.586301</td>\n",
       "      <td>1</td>\n",
       "      <td>1509385.466</td>\n",
       "      <td>1.486503</td>\n",
       "      <td>...</td>\n",
       "      <td>1.513620</td>\n",
       "      <td>1.457985</td>\n",
       "      <td>1.549947</td>\n",
       "      <td>1.604411</td>\n",
       "      <td>1.589300</td>\n",
       "      <td>2.0</td>\n",
       "      <td>1.000000</td>\n",
       "      <td>12.0</td>\n",
       "      <td>0.318955</td>\n",
       "      <td>5.890501e-10</td>\n",
       "    </tr>\n",
       "    <tr>\n",
       "      <th>2</th>\n",
       "      <td>1247</td>\n",
       "      <td>1</td>\n",
       "      <td>1949-07-13</td>\n",
       "      <td>NaN</td>\n",
       "      <td>//</td>\n",
       "      <td>2021-07-23</td>\n",
       "      <td>85.802740</td>\n",
       "      <td>1</td>\n",
       "      <td>1682310.916</td>\n",
       "      <td>0.863529</td>\n",
       "      <td>...</td>\n",
       "      <td>0.815060</td>\n",
       "      <td>0.866736</td>\n",
       "      <td>0.813185</td>\n",
       "      <td>0.877843</td>\n",
       "      <td>0.933986</td>\n",
       "      <td>0.0</td>\n",
       "      <td>0.675785</td>\n",
       "      <td>0.0</td>\n",
       "      <td>0.351540</td>\n",
       "      <td>3.242155e-01</td>\n",
       "    </tr>\n",
       "    <tr>\n",
       "      <th>3</th>\n",
       "      <td>1274</td>\n",
       "      <td>1</td>\n",
       "      <td>1939-05-19</td>\n",
       "      <td>NaN</td>\n",
       "      <td>//</td>\n",
       "      <td>2021-04-16</td>\n",
       "      <td>78.101370</td>\n",
       "      <td>1</td>\n",
       "      <td>1409945.291</td>\n",
       "      <td>0.917792</td>\n",
       "      <td>...</td>\n",
       "      <td>0.868055</td>\n",
       "      <td>1.031739</td>\n",
       "      <td>1.030657</td>\n",
       "      <td>1.177117</td>\n",
       "      <td>1.204226</td>\n",
       "      <td>1.0</td>\n",
       "      <td>0.820447</td>\n",
       "      <td>3.0</td>\n",
       "      <td>0.133568</td>\n",
       "      <td>8.204474e-01</td>\n",
       "    </tr>\n",
       "    <tr>\n",
       "      <th>4</th>\n",
       "      <td>1407</td>\n",
       "      <td>1</td>\n",
       "      <td>1935-08-06</td>\n",
       "      <td>NaN</td>\n",
       "      <td>//</td>\n",
       "      <td>2021-04-16</td>\n",
       "      <td>65.753425</td>\n",
       "      <td>1</td>\n",
       "      <td>1381377.973</td>\n",
       "      <td>0.836405</td>\n",
       "      <td>...</td>\n",
       "      <td>0.841339</td>\n",
       "      <td>0.752240</td>\n",
       "      <td>0.735306</td>\n",
       "      <td>0.645981</td>\n",
       "      <td>0.905331</td>\n",
       "      <td>0.0</td>\n",
       "      <td>0.601419</td>\n",
       "      <td>0.0</td>\n",
       "      <td>0.475577</td>\n",
       "      <td>3.985806e-01</td>\n",
       "    </tr>\n",
       "  </tbody>\n",
       "</table>\n",
       "<p>5 rows × 140 columns</p>\n",
       "</div>"
      ],
      "text/plain": [
       "   pidn  gender    birthday  Unnamed: 3 Unnamed: 4   case_date        age  \\\n",
       "0   118       1  1959-05-24         NaN         //  2020-05-06  60.994521   \n",
       "1   635       0  1947-02-21         NaN         //  2021-09-04  74.586301   \n",
       "2  1247       1  1949-07-13         NaN         //  2021-07-23  85.802740   \n",
       "3  1274       1  1939-05-19         NaN         //  2021-04-16  78.101370   \n",
       "4  1407       1  1935-08-06         NaN         //  2021-04-16  65.753425   \n",
       "\n",
       "   diagnosis         etiv  stage I-IIboth  ...  HippocampusR  AmygdalaL  \\\n",
       "0          1  1718944.373        1.186645  ...      1.322048   1.060368   \n",
       "1          1  1509385.466        1.486503  ...      1.513620   1.457985   \n",
       "2          1  1682310.916        0.863529  ...      0.815060   0.866736   \n",
       "3          1  1409945.291        0.917792  ...      0.868055   1.031739   \n",
       "4          1  1381377.973        0.836405  ...      0.841339   0.752240   \n",
       "\n",
       "   AmygdalaR  AccumbensL  AccumbensR  ml_subtype  prob_ml_subtype  ml_stage  \\\n",
       "0   1.004850    0.927153    0.906127         1.0         0.833085       1.0   \n",
       "1   1.549947    1.604411    1.589300         2.0         1.000000      12.0   \n",
       "2   0.813185    0.877843    0.933986         0.0         0.675785       0.0   \n",
       "3   1.030657    1.177117    1.204226         1.0         0.820447       3.0   \n",
       "4   0.735306    0.645981    0.905331         0.0         0.601419       0.0   \n",
       "\n",
       "   prob_ml_stage       prob_S0  \n",
       "0       0.302397  8.330849e-01  \n",
       "1       0.318955  5.890501e-10  \n",
       "2       0.351540  3.242155e-01  \n",
       "3       0.133568  8.204474e-01  \n",
       "4       0.475577  3.985806e-01  \n",
       "\n",
       "[5 rows x 140 columns]"
      ]
     },
     "execution_count": 13,
     "metadata": {},
     "output_type": "execute_result"
    }
   ],
   "source": [
    "# IMPORTANT!!! The last thing we need to do is to set all \"Stage 0\" subtypes to their own subtype\n",
    "# We'll set current subtype (0 and 1) to 1 and 0, and we'll call \"Stage 0\" individuals subtype 0.\n",
    "\n",
    "# make current subtypes (0 and 1) 1 and 2 instead\n",
    "zdata.loc[:,'ml_subtype'] = zdata.ml_subtype.values + 1\n",
    "\n",
    "# convert \"Stage 0\" subjects to subtype 0\n",
    "zdata.loc[zdata.ml_stage==0,'ml_subtype'] = 0\n",
    "zdata.head()"
   ]
  },
  {
   "cell_type": "code",
   "execution_count": 14,
   "id": "0c129799",
   "metadata": {},
   "outputs": [
    {
     "data": {
      "text/plain": [
       "<seaborn.axisgrid.FacetGrid at 0x1c48f1b6940>"
      ]
     },
     "execution_count": 14,
     "metadata": {},
     "output_type": "execute_result"
    },
    {
     "data": {
      "image/png": "[encoded data removed]",
      "text/plain": [
       "<Figure size 1135.5x360 with 3 Axes>"
      ]
     },
     "metadata": {
      "needs_background": "light"
     },
     "output_type": "display_data"
    }
   ],
   "source": [
    "sns.displot(x='ml_stage',hue='diagnosis',data=zdata,col='ml_subtype')"
   ]
  },
  {
   "cell_type": "code",
   "execution_count": 15,
   "id": "fb77c878",
   "metadata": {},
   "outputs": [],
   "source": [
    "# choose the number of folds - here i've used three for speed but i recommend 10 typically\n",
    "N_folds = 3\n",
    "\n",
    "# generate stratified cross-validation training and test set splits\n",
    "labels = zdata.diagnosis.values\n",
    "cv = sklearn.model_selection.StratifiedKFold(n_splits=N_folds, shuffle=True)\n",
    "cv_it = cv.split(zdata, labels)\n",
    "\n",
    "# SuStaIn currently accepts ragged arrays, which will raise problems in the future.\n",
    "# We'll have to update this in the future, but this will have to do for now\n",
    "test_idxs = []\n",
    "for train, test in cv_it:\n",
    "    test_idxs.append(test)\n",
    "test_idxs = np.array(test_idxs,dtype='object')"
   ]
  },
  {
   "cell_type": "code",
   "execution_count": 16,
   "id": "3c8e2ca4",
   "metadata": {},
   "outputs": [
    {
     "data": {
      "application/vnd.jupyter.widget-view+json": {
       "model_id": "f3456ca2f48a4364b2129ba665120cfb",
       "version_major": 2,
       "version_minor": 0
      },
      "text/plain": [
       "Folds:   0%|          | 0/3 [00:00<?, ?it/s]"
      ]
     },
     "metadata": {},
     "output_type": "display_data"
    },
    {
     "name": "stdout",
     "output_type": "stream",
     "text": [
      "Finding ML solution to 1 cluster problem\n",
      "Overall ML likelihood is -5558.1193018743525\n"
     ]
    },
    {
     "data": {
      "application/vnd.jupyter.widget-view+json": {
       "model_id": "674d6aa4364e4d72ae76f7cc1039a6b1",
       "version_major": 2,
       "version_minor": 0
      },
      "text/plain": [
       "MCMC Iteration:   0%|          | 0/10000 [00:00<?, ?it/s]"
      ]
     },
     "metadata": {},
     "output_type": "display_data"
    },
    {
     "data": {
      "application/vnd.jupyter.widget-view+json": {
       "model_id": "901744be38cf48eaab6d40c11cd0aa35",
       "version_major": 2,
       "version_minor": 0
      },
      "text/plain": [
       "MCMC Iteration:   0%|          | 0/10000 [00:00<?, ?it/s]"
      ]
     },
     "metadata": {},
     "output_type": "display_data"
    },
    {
     "data": {
      "application/vnd.jupyter.widget-view+json": {
       "model_id": "5c19814cd992446fbef99ec9f6105060",
       "version_major": 2,
       "version_minor": 0
      },
      "text/plain": [
       "MCMC Iteration:   0%|          | 0/10000 [00:00<?, ?it/s]"
      ]
     },
     "metadata": {},
     "output_type": "display_data"
    },
    {
     "data": {
      "application/vnd.jupyter.widget-view+json": {
       "model_id": "e1e2d45e16ad444495d730757e9af7ad",
       "version_major": 2,
       "version_minor": 0
      },
      "text/plain": [
       "MCMC Iteration:   0%|          | 0/100000 [00:00<?, ?it/s]"
      ]
     },
     "metadata": {},
     "output_type": "display_data"
    },
    {
     "name": "stdout",
     "output_type": "stream",
     "text": [
      "Splitting cluster 1 of 1\n",
      " + Resolving 2 cluster problem\n",
      " + Finding ML solution from hierarchical initialisation\n",
      "- ML likelihood is [-5348.24330139]\n",
      "Overall ML likelihood is [-5348.24330139]\n"
     ]
    },
    {
     "data": {
      "application/vnd.jupyter.widget-view+json": {
       "model_id": "e493cd6fe11b4cd3882a703ed940419a",
       "version_major": 2,
       "version_minor": 0
      },
      "text/plain": [
       "MCMC Iteration:   0%|          | 0/10000 [00:00<?, ?it/s]"
      ]
     },
     "metadata": {},
     "output_type": "display_data"
    },
    {
     "data": {
      "application/vnd.jupyter.widget-view+json": {
       "model_id": "c7fbce3955cc4e42acfd8b5482bd3ba4",
       "version_major": 2,
       "version_minor": 0
      },
      "text/plain": [
       "MCMC Iteration:   0%|          | 0/10000 [00:00<?, ?it/s]"
      ]
     },
     "metadata": {},
     "output_type": "display_data"
    },
    {
     "data": {
      "application/vnd.jupyter.widget-view+json": {
       "model_id": "6d26eb0d9b4b46d69f84158b15bbea33",
       "version_major": 2,
       "version_minor": 0
      },
      "text/plain": [
       "MCMC Iteration:   0%|          | 0/10000 [00:00<?, ?it/s]"
      ]
     },
     "metadata": {},
     "output_type": "display_data"
    },
    {
     "data": {
      "application/vnd.jupyter.widget-view+json": {
       "model_id": "5f122c468282486c9d5d5c541575e8bf",
       "version_major": 2,
       "version_minor": 0
      },
      "text/plain": [
       "MCMC Iteration:   0%|          | 0/100000 [00:00<?, ?it/s]"
      ]
     },
     "metadata": {},
     "output_type": "display_data"
    },
    {
     "name": "stdout",
     "output_type": "stream",
     "text": [
      "Splitting cluster 1 of 2\n",
      " + Resolving 2 cluster problem\n",
      " + Finding ML solution from hierarchical initialisation\n",
      "- ML likelihood is [-5338.67524966]\n",
      "Splitting cluster 2 of 2\n",
      " + Resolving 2 cluster problem\n",
      " + Finding ML solution from hierarchical initialisation\n",
      "- ML likelihood is [-5309.11569585]\n",
      "Overall ML likelihood is [-5309.11569585]\n"
     ]
    },
    {
     "data": {
      "application/vnd.jupyter.widget-view+json": {
       "model_id": "b16ae488ee794ad7bcc1284cbffe5c0b",
       "version_major": 2,
       "version_minor": 0
      },
      "text/plain": [
       "MCMC Iteration:   0%|          | 0/10000 [00:00<?, ?it/s]"
      ]
     },
     "metadata": {},
     "output_type": "display_data"
    },
    {
     "data": {
      "application/vnd.jupyter.widget-view+json": {
       "model_id": "486cc08b53314111bba70d5cd542a1cc",
       "version_major": 2,
       "version_minor": 0
      },
      "text/plain": [
       "MCMC Iteration:   0%|          | 0/10000 [00:00<?, ?it/s]"
      ]
     },
     "metadata": {},
     "output_type": "display_data"
    },
    {
     "data": {
      "application/vnd.jupyter.widget-view+json": {
       "model_id": "08f314637c78471bbb3b39ce8e5c3353",
       "version_major": 2,
       "version_minor": 0
      },
      "text/plain": [
       "MCMC Iteration:   0%|          | 0/10000 [00:00<?, ?it/s]"
      ]
     },
     "metadata": {},
     "output_type": "display_data"
    },
    {
     "data": {
      "application/vnd.jupyter.widget-view+json": {
       "model_id": "3fe398263ee546128536af91c3354943",
       "version_major": 2,
       "version_minor": 0
      },
      "text/plain": [
       "MCMC Iteration:   0%|          | 0/100000 [00:00<?, ?it/s]"
      ]
     },
     "metadata": {},
     "output_type": "display_data"
    },
    {
     "name": "stdout",
     "output_type": "stream",
     "text": [
      "Splitting cluster 1 of 3\n",
      " + Resolving 2 cluster problem\n",
      " + Finding ML solution from hierarchical initialisation\n",
      "- ML likelihood is [-5297.52604563]\n",
      "Splitting cluster 2 of 3\n",
      " + Resolving 2 cluster problem\n",
      " + Finding ML solution from hierarchical initialisation\n",
      "- ML likelihood is [-5305.86258186]\n",
      "Splitting cluster 3 of 3\n",
      " + Resolving 2 cluster problem\n",
      " + Finding ML solution from hierarchical initialisation\n",
      "- ML likelihood is [-5304.0243793]\n",
      "Overall ML likelihood is [-5297.52604563]\n"
     ]
    },
    {
     "data": {
      "application/vnd.jupyter.widget-view+json": {
       "model_id": "abb057a42e4d4c1c8450354634af4830",
       "version_major": 2,
       "version_minor": 0
      },
      "text/plain": [
       "MCMC Iteration:   0%|          | 0/10000 [00:00<?, ?it/s]"
      ]
     },
     "metadata": {},
     "output_type": "display_data"
    },
    {
     "data": {
      "application/vnd.jupyter.widget-view+json": {
       "model_id": "fedb6e3ac958497ab0856d4c0d909f97",
       "version_major": 2,
       "version_minor": 0
      },
      "text/plain": [
       "MCMC Iteration:   0%|          | 0/10000 [00:00<?, ?it/s]"
      ]
     },
     "metadata": {},
     "output_type": "display_data"
    },
    {
     "data": {
      "application/vnd.jupyter.widget-view+json": {
       "model_id": "46d47ab41b3040ef87c4cfefbcd59f51",
       "version_major": 2,
       "version_minor": 0
      },
      "text/plain": [
       "MCMC Iteration:   0%|          | 0/10000 [00:00<?, ?it/s]"
      ]
     },
     "metadata": {},
     "output_type": "display_data"
    },
    {
     "data": {
      "application/vnd.jupyter.widget-view+json": {
       "model_id": "ccd2e076590e4f27bc51bcacbec60f81",
       "version_major": 2,
       "version_minor": 0
      },
      "text/plain": [
       "MCMC Iteration:   0%|          | 0/100000 [00:00<?, ?it/s]"
      ]
     },
     "metadata": {},
     "output_type": "display_data"
    },
    {
     "name": "stdout",
     "output_type": "stream",
     "text": [
      "Splitting cluster 1 of 4\n",
      " + Resolving 2 cluster problem\n",
      " + Finding ML solution from hierarchical initialisation\n",
      "- ML likelihood is [-5295.05387835]\n",
      "Splitting cluster 2 of 4\n",
      " + Resolving 2 cluster problem\n",
      " + Finding ML solution from hierarchical initialisation\n",
      "- ML likelihood is [-5295.30628149]\n",
      "Splitting cluster 3 of 4\n",
      " + Resolving 2 cluster problem\n",
      " + Finding ML solution from hierarchical initialisation\n",
      "- ML likelihood is [-5293.30643893]\n",
      "Splitting cluster 4 of 4\n",
      " + Resolving 2 cluster problem\n",
      " + Finding ML solution from hierarchical initialisation\n",
      "- ML likelihood is [-5295.87256164]\n",
      "Overall ML likelihood is [-5293.30643893]\n"
     ]
    },
    {
     "data": {
      "application/vnd.jupyter.widget-view+json": {
       "model_id": "f26a52eddb5a42f1b45d1a10785f87be",
       "version_major": 2,
       "version_minor": 0
      },
      "text/plain": [
       "MCMC Iteration:   0%|          | 0/10000 [00:00<?, ?it/s]"
      ]
     },
     "metadata": {},
     "output_type": "display_data"
    },
    {
     "data": {
      "application/vnd.jupyter.widget-view+json": {
       "model_id": "4e2fe97c48e24047a3d7dfafde6a9e4b",
       "version_major": 2,
       "version_minor": 0
      },
      "text/plain": [
       "MCMC Iteration:   0%|          | 0/10000 [00:00<?, ?it/s]"
      ]
     },
     "metadata": {},
     "output_type": "display_data"
    },
    {
     "data": {
      "application/vnd.jupyter.widget-view+json": {
       "model_id": "68eee94f9d154dba8bdd138bc63e5c1f",
       "version_major": 2,
       "version_minor": 0
      },
      "text/plain": [
       "MCMC Iteration:   0%|          | 0/10000 [00:00<?, ?it/s]"
      ]
     },
     "metadata": {},
     "output_type": "display_data"
    },
    {
     "data": {
      "application/vnd.jupyter.widget-view+json": {
       "model_id": "8831a4da127a406b91a6bbff0a907614",
       "version_major": 2,
       "version_minor": 0
      },
      "text/plain": [
       "MCMC Iteration:   0%|          | 0/100000 [00:00<?, ?it/s]"
      ]
     },
     "metadata": {},
     "output_type": "display_data"
    },
    {
     "name": "stdout",
     "output_type": "stream",
     "text": [
      "Finding ML solution to 1 cluster problem\n",
      "Overall ML likelihood is -5646.039927774318\n"
     ]
    },
    {
     "data": {
      "application/vnd.jupyter.widget-view+json": {
       "model_id": "a3ecc53939de480b91ad8248bf3dee21",
       "version_major": 2,
       "version_minor": 0
      },
      "text/plain": [
       "MCMC Iteration:   0%|          | 0/10000 [00:00<?, ?it/s]"
      ]
     },
     "metadata": {},
     "output_type": "display_data"
    },
    {
     "data": {
      "application/vnd.jupyter.widget-view+json": {
       "model_id": "cf5300b8f7f746e18eebdc9e5df4bfbd",
       "version_major": 2,
       "version_minor": 0
      },
      "text/plain": [
       "MCMC Iteration:   0%|          | 0/10000 [00:00<?, ?it/s]"
      ]
     },
     "metadata": {},
     "output_type": "display_data"
    },
    {
     "data": {
      "application/vnd.jupyter.widget-view+json": {
       "model_id": "623d298c974447dfa1fb344297934b1c",
       "version_major": 2,
       "version_minor": 0
      },
      "text/plain": [
       "MCMC Iteration:   0%|          | 0/10000 [00:00<?, ?it/s]"
      ]
     },
     "metadata": {},
     "output_type": "display_data"
    },
    {
     "data": {
      "application/vnd.jupyter.widget-view+json": {
       "model_id": "360d9beeeb0343868476378fa272553f",
       "version_major": 2,
       "version_minor": 0
      },
      "text/plain": [
       "MCMC Iteration:   0%|          | 0/100000 [00:00<?, ?it/s]"
      ]
     },
     "metadata": {},
     "output_type": "display_data"
    },
    {
     "name": "stdout",
     "output_type": "stream",
     "text": [
      "Splitting cluster 1 of 1\n",
      " + Resolving 2 cluster problem\n",
      " + Finding ML solution from hierarchical initialisation\n",
      "- ML likelihood is [-5455.91045039]\n",
      "Overall ML likelihood is [-5455.91045039]\n"
     ]
    },
    {
     "data": {
      "application/vnd.jupyter.widget-view+json": {
       "model_id": "7d7e8b47e80f4d1a9b58b95a3df44043",
       "version_major": 2,
       "version_minor": 0
      },
      "text/plain": [
       "MCMC Iteration:   0%|          | 0/10000 [00:00<?, ?it/s]"
      ]
     },
     "metadata": {},
     "output_type": "display_data"
    },
    {
     "data": {
      "application/vnd.jupyter.widget-view+json": {
       "model_id": "4eecdbbc7c444215ac64a5d0b773cf51",
       "version_major": 2,
       "version_minor": 0
      },
      "text/plain": [
       "MCMC Iteration:   0%|          | 0/10000 [00:00<?, ?it/s]"
      ]
     },
     "metadata": {},
     "output_type": "display_data"
    },
    {
     "data": {
      "application/vnd.jupyter.widget-view+json": {
       "model_id": "ed48cba7ea48488ba635fd022c17f6ed",
       "version_major": 2,
       "version_minor": 0
      },
      "text/plain": [
       "MCMC Iteration:   0%|          | 0/10000 [00:00<?, ?it/s]"
      ]
     },
     "metadata": {},
     "output_type": "display_data"
    },
    {
     "data": {
      "application/vnd.jupyter.widget-view+json": {
       "model_id": "8015388d375a4e1ca2a6f8ecfbe443b7",
       "version_major": 2,
       "version_minor": 0
      },
      "text/plain": [
       "MCMC Iteration:   0%|          | 0/100000 [00:00<?, ?it/s]"
      ]
     },
     "metadata": {},
     "output_type": "display_data"
    },
    {
     "name": "stdout",
     "output_type": "stream",
     "text": [
      "Splitting cluster 1 of 2\n",
      " + Resolving 2 cluster problem\n",
      " + Finding ML solution from hierarchical initialisation\n",
      "- ML likelihood is [-5424.22019019]\n",
      "Splitting cluster 2 of 2\n",
      " + Resolving 2 cluster problem\n",
      " + Finding ML solution from hierarchical initialisation\n",
      "- ML likelihood is [-5434.6285656]\n",
      "Overall ML likelihood is [-5424.22019019]\n"
     ]
    },
    {
     "data": {
      "application/vnd.jupyter.widget-view+json": {
       "model_id": "be14edf887c745d7acb4333584fcb1db",
       "version_major": 2,
       "version_minor": 0
      },
      "text/plain": [
       "MCMC Iteration:   0%|          | 0/10000 [00:00<?, ?it/s]"
      ]
     },
     "metadata": {},
     "output_type": "display_data"
    },
    {
     "data": {
      "application/vnd.jupyter.widget-view+json": {
       "model_id": "4f81bef92844447bbf0fdadc326ad2e6",
       "version_major": 2,
       "version_minor": 0
      },
      "text/plain": [
       "MCMC Iteration:   0%|          | 0/10000 [00:00<?, ?it/s]"
      ]
     },
     "metadata": {},
     "output_type": "display_data"
    },
    {
     "data": {
      "application/vnd.jupyter.widget-view+json": {
       "model_id": "7f16d88cba4c443cbb052bd2ede403f7",
       "version_major": 2,
       "version_minor": 0
      },
      "text/plain": [
       "MCMC Iteration:   0%|          | 0/10000 [00:00<?, ?it/s]"
      ]
     },
     "metadata": {},
     "output_type": "display_data"
    },
    {
     "data": {
      "application/vnd.jupyter.widget-view+json": {
       "model_id": "b5844f4da4b542d3a196069d3f021aac",
       "version_major": 2,
       "version_minor": 0
      },
      "text/plain": [
       "MCMC Iteration:   0%|          | 0/100000 [00:00<?, ?it/s]"
      ]
     },
     "metadata": {},
     "output_type": "display_data"
    },
    {
     "name": "stdout",
     "output_type": "stream",
     "text": [
      "Splitting cluster 1 of 3\n",
      " + Resolving 2 cluster problem\n",
      " + Finding ML solution from hierarchical initialisation\n",
      "- ML likelihood is [-5410.92480007]\n",
      "Splitting cluster 2 of 3\n",
      " + Resolving 2 cluster problem\n",
      " + Finding ML solution from hierarchical initialisation\n",
      "- ML likelihood is [-5410.24810691]\n",
      "Splitting cluster 3 of 3\n",
      " + Resolving 2 cluster problem\n",
      " + Finding ML solution from hierarchical initialisation\n",
      "- ML likelihood is [-5410.79029185]\n",
      "Overall ML likelihood is [-5410.24810691]\n"
     ]
    },
    {
     "data": {
      "application/vnd.jupyter.widget-view+json": {
       "model_id": "b8c5936fb7f84c09b81d90baf504739f",
       "version_major": 2,
       "version_minor": 0
      },
      "text/plain": [
       "MCMC Iteration:   0%|          | 0/10000 [00:00<?, ?it/s]"
      ]
     },
     "metadata": {},
     "output_type": "display_data"
    },
    {
     "data": {
      "application/vnd.jupyter.widget-view+json": {
       "model_id": "c438857434be4130834ea409ad87f361",
       "version_major": 2,
       "version_minor": 0
      },
      "text/plain": [
       "MCMC Iteration:   0%|          | 0/10000 [00:00<?, ?it/s]"
      ]
     },
     "metadata": {},
     "output_type": "display_data"
    },
    {
     "data": {
      "application/vnd.jupyter.widget-view+json": {
       "model_id": "962dd90aa3fb4a0094285711316bb512",
       "version_major": 2,
       "version_minor": 0
      },
      "text/plain": [
       "MCMC Iteration:   0%|          | 0/10000 [00:00<?, ?it/s]"
      ]
     },
     "metadata": {},
     "output_type": "display_data"
    },
    {
     "data": {
      "application/vnd.jupyter.widget-view+json": {
       "model_id": "adeb314c595b46299365a5d83d9f9441",
       "version_major": 2,
       "version_minor": 0
      },
      "text/plain": [
       "MCMC Iteration:   0%|          | 0/100000 [00:00<?, ?it/s]"
      ]
     },
     "metadata": {},
     "output_type": "display_data"
    },
    {
     "name": "stdout",
     "output_type": "stream",
     "text": [
      "Splitting cluster 1 of 4\n",
      " + Resolving 2 cluster problem\n",
      " + Finding ML solution from hierarchical initialisation\n",
      "- ML likelihood is [-5405.79714268]\n",
      "Splitting cluster 2 of 4\n",
      " + Resolving 2 cluster problem\n",
      " + Finding ML solution from hierarchical initialisation\n",
      "- ML likelihood is [-5405.93505007]\n",
      "Splitting cluster 3 of 4\n",
      " + Resolving 2 cluster problem\n",
      " + Finding ML solution from hierarchical initialisation\n",
      "- ML likelihood is [-5406.3803182]\n",
      "Splitting cluster 4 of 4\n",
      " + Resolving 2 cluster problem\n",
      " + Finding ML solution from hierarchical initialisation\n",
      "- ML likelihood is [-5405.93827187]\n",
      "Overall ML likelihood is [-5405.79714268]\n"
     ]
    },
    {
     "data": {
      "application/vnd.jupyter.widget-view+json": {
       "model_id": "15a021e59967452c9c123218dbc2a65b",
       "version_major": 2,
       "version_minor": 0
      },
      "text/plain": [
       "MCMC Iteration:   0%|          | 0/10000 [00:00<?, ?it/s]"
      ]
     },
     "metadata": {},
     "output_type": "display_data"
    },
    {
     "data": {
      "application/vnd.jupyter.widget-view+json": {
       "model_id": "31d1fc64a3104e29bd2e665ab22feab2",
       "version_major": 2,
       "version_minor": 0
      },
      "text/plain": [
       "MCMC Iteration:   0%|          | 0/10000 [00:00<?, ?it/s]"
      ]
     },
     "metadata": {},
     "output_type": "display_data"
    },
    {
     "data": {
      "application/vnd.jupyter.widget-view+json": {
       "model_id": "159c0dae75754beb8f2297f63e4490de",
       "version_major": 2,
       "version_minor": 0
      },
      "text/plain": [
       "MCMC Iteration:   0%|          | 0/10000 [00:00<?, ?it/s]"
      ]
     },
     "metadata": {},
     "output_type": "display_data"
    },
    {
     "data": {
      "application/vnd.jupyter.widget-view+json": {
       "model_id": "5e2015b492944114b6fe66bdc9ae8caf",
       "version_major": 2,
       "version_minor": 0
      },
      "text/plain": [
       "MCMC Iteration:   0%|          | 0/100000 [00:00<?, ?it/s]"
      ]
     },
     "metadata": {},
     "output_type": "display_data"
    },
    {
     "name": "stdout",
     "output_type": "stream",
     "text": [
      "Finding ML solution to 1 cluster problem\n",
      "Overall ML likelihood is -5592.634506109098\n"
     ]
    },
    {
     "data": {
      "application/vnd.jupyter.widget-view+json": {
       "model_id": "2abb3c8e3d2742a2b44aba76461ffe90",
       "version_major": 2,
       "version_minor": 0
      },
      "text/plain": [
       "MCMC Iteration:   0%|          | 0/10000 [00:00<?, ?it/s]"
      ]
     },
     "metadata": {},
     "output_type": "display_data"
    },
    {
     "data": {
      "application/vnd.jupyter.widget-view+json": {
       "model_id": "5d90ab1810e547e6a2c025ed4b4f08de",
       "version_major": 2,
       "version_minor": 0
      },
      "text/plain": [
       "MCMC Iteration:   0%|          | 0/10000 [00:00<?, ?it/s]"
      ]
     },
     "metadata": {},
     "output_type": "display_data"
    },
    {
     "data": {
      "application/vnd.jupyter.widget-view+json": {
       "model_id": "cd1c4885165b4898ba02f409a0e48580",
       "version_major": 2,
       "version_minor": 0
      },
      "text/plain": [
       "MCMC Iteration:   0%|          | 0/10000 [00:00<?, ?it/s]"
      ]
     },
     "metadata": {},
     "output_type": "display_data"
    },
    {
     "data": {
      "application/vnd.jupyter.widget-view+json": {
       "model_id": "95c06a8abc2543a0a9afb58c5cc39862",
       "version_major": 2,
       "version_minor": 0
      },
      "text/plain": [
       "MCMC Iteration:   0%|          | 0/100000 [00:00<?, ?it/s]"
      ]
     },
     "metadata": {},
     "output_type": "display_data"
    },
    {
     "name": "stdout",
     "output_type": "stream",
     "text": [
      "Splitting cluster 1 of 1\n",
      " + Resolving 2 cluster problem\n",
      " + Finding ML solution from hierarchical initialisation\n",
      "- ML likelihood is [-5405.84539689]\n",
      "Overall ML likelihood is [-5405.84539689]\n"
     ]
    },
    {
     "data": {
      "application/vnd.jupyter.widget-view+json": {
       "model_id": "8b84a3c5d319446c8ce281c8c0557cb6",
       "version_major": 2,
       "version_minor": 0
      },
      "text/plain": [
       "MCMC Iteration:   0%|          | 0/10000 [00:00<?, ?it/s]"
      ]
     },
     "metadata": {},
     "output_type": "display_data"
    },
    {
     "data": {
      "application/vnd.jupyter.widget-view+json": {
       "model_id": "f02b203b91ff4f18b899e335ba49e2fd",
       "version_major": 2,
       "version_minor": 0
      },
      "text/plain": [
       "MCMC Iteration:   0%|          | 0/10000 [00:00<?, ?it/s]"
      ]
     },
     "metadata": {},
     "output_type": "display_data"
    },
    {
     "data": {
      "application/vnd.jupyter.widget-view+json": {
       "model_id": "a9f70e18ffb84686b913ca7dc85ab9ce",
       "version_major": 2,
       "version_minor": 0
      },
      "text/plain": [
       "MCMC Iteration:   0%|          | 0/10000 [00:00<?, ?it/s]"
      ]
     },
     "metadata": {},
     "output_type": "display_data"
    },
    {
     "data": {
      "application/vnd.jupyter.widget-view+json": {
       "model_id": "f1a21f20ba8447d9835de6cde4e06e72",
       "version_major": 2,
       "version_minor": 0
      },
      "text/plain": [
       "MCMC Iteration:   0%|          | 0/100000 [00:00<?, ?it/s]"
      ]
     },
     "metadata": {},
     "output_type": "display_data"
    },
    {
     "name": "stdout",
     "output_type": "stream",
     "text": [
      "Splitting cluster 1 of 2\n",
      " + Resolving 2 cluster problem\n",
      " + Finding ML solution from hierarchical initialisation\n",
      "- ML likelihood is [-5370.57440322]\n",
      "Splitting cluster 2 of 2\n",
      " + Resolving 2 cluster problem\n",
      " + Finding ML solution from hierarchical initialisation\n",
      "- ML likelihood is [-5392.01154284]\n",
      "Overall ML likelihood is [-5370.57440322]\n"
     ]
    },
    {
     "data": {
      "application/vnd.jupyter.widget-view+json": {
       "model_id": "d431caba284a4b5c9c14e645b52ef2de",
       "version_major": 2,
       "version_minor": 0
      },
      "text/plain": [
       "MCMC Iteration:   0%|          | 0/10000 [00:00<?, ?it/s]"
      ]
     },
     "metadata": {},
     "output_type": "display_data"
    },
    {
     "data": {
      "application/vnd.jupyter.widget-view+json": {
       "model_id": "b4ff5c24445b4c40be9e0cd83702c317",
       "version_major": 2,
       "version_minor": 0
      },
      "text/plain": [
       "MCMC Iteration:   0%|          | 0/10000 [00:00<?, ?it/s]"
      ]
     },
     "metadata": {},
     "output_type": "display_data"
    },
    {
     "data": {
      "application/vnd.jupyter.widget-view+json": {
       "model_id": "66393d9217d04962801e103932587bd1",
       "version_major": 2,
       "version_minor": 0
      },
      "text/plain": [
       "MCMC Iteration:   0%|          | 0/10000 [00:00<?, ?it/s]"
      ]
     },
     "metadata": {},
     "output_type": "display_data"
    },
    {
     "data": {
      "application/vnd.jupyter.widget-view+json": {
       "model_id": "7c8fa1a1dfd1427296cdcd0f169173ce",
       "version_major": 2,
       "version_minor": 0
      },
      "text/plain": [
       "MCMC Iteration:   0%|          | 0/100000 [00:00<?, ?it/s]"
      ]
     },
     "metadata": {},
     "output_type": "display_data"
    },
    {
     "name": "stdout",
     "output_type": "stream",
     "text": [
      "Splitting cluster 1 of 3\n",
      " + Resolving 2 cluster problem\n",
      " + Finding ML solution from hierarchical initialisation\n",
      "- ML likelihood is [-5361.4804883]\n",
      "Splitting cluster 2 of 3\n",
      " + Resolving 2 cluster problem\n",
      " + Finding ML solution from hierarchical initialisation\n",
      "- ML likelihood is [-5356.50618958]\n",
      "Splitting cluster 3 of 3\n",
      " + Resolving 2 cluster problem\n",
      " + Finding ML solution from hierarchical initialisation\n",
      "- ML likelihood is [-5362.79633122]\n",
      "Overall ML likelihood is [-5356.50618958]\n"
     ]
    },
    {
     "data": {
      "application/vnd.jupyter.widget-view+json": {
       "model_id": "3d85e4cb524f42859730a0382378f992",
       "version_major": 2,
       "version_minor": 0
      },
      "text/plain": [
       "MCMC Iteration:   0%|          | 0/10000 [00:00<?, ?it/s]"
      ]
     },
     "metadata": {},
     "output_type": "display_data"
    },
    {
     "data": {
      "application/vnd.jupyter.widget-view+json": {
       "model_id": "ad0c284b849d4a7d80128780bc7e5bfb",
       "version_major": 2,
       "version_minor": 0
      },
      "text/plain": [
       "MCMC Iteration:   0%|          | 0/10000 [00:00<?, ?it/s]"
      ]
     },
     "metadata": {},
     "output_type": "display_data"
    },
    {
     "data": {
      "application/vnd.jupyter.widget-view+json": {
       "model_id": "ee51e352198443ada0902a0d48f35177",
       "version_major": 2,
       "version_minor": 0
      },
      "text/plain": [
       "MCMC Iteration:   0%|          | 0/10000 [00:00<?, ?it/s]"
      ]
     },
     "metadata": {},
     "output_type": "display_data"
    },
    {
     "data": {
      "application/vnd.jupyter.widget-view+json": {
       "model_id": "dabc1501337e4d598ed71cfd386be491",
       "version_major": 2,
       "version_minor": 0
      },
      "text/plain": [
       "MCMC Iteration:   0%|          | 0/100000 [00:00<?, ?it/s]"
      ]
     },
     "metadata": {},
     "output_type": "display_data"
    },
    {
     "name": "stdout",
     "output_type": "stream",
     "text": [
      "Splitting cluster 1 of 4\n",
      " + Resolving 2 cluster problem\n",
      " + Finding ML solution from hierarchical initialisation\n",
      "- ML likelihood is [-5348.65234272]\n",
      "Splitting cluster 2 of 4\n",
      " + Resolving 2 cluster problem\n",
      " + Finding ML solution from hierarchical initialisation\n",
      "- ML likelihood is [-5351.02032346]\n",
      "Splitting cluster 3 of 4\n",
      " + Resolving 2 cluster problem\n",
      " + Finding ML solution from hierarchical initialisation\n",
      "- ML likelihood is [-5348.70311769]\n",
      "Splitting cluster 4 of 4\n",
      " + Resolving 2 cluster problem\n",
      " + Finding ML solution from hierarchical initialisation\n",
      "- ML likelihood is [-5352.33180657]\n",
      "Overall ML likelihood is [-5348.65234272]\n"
     ]
    },
    {
     "data": {
      "application/vnd.jupyter.widget-view+json": {
       "model_id": "a5aa86eb75814f489c832cacbb1598a2",
       "version_major": 2,
       "version_minor": 0
      },
      "text/plain": [
       "MCMC Iteration:   0%|          | 0/10000 [00:00<?, ?it/s]"
      ]
     },
     "metadata": {},
     "output_type": "display_data"
    },
    {
     "data": {
      "application/vnd.jupyter.widget-view+json": {
       "model_id": "5d22a96f1879454cbfdc2281bbc6a6fa",
       "version_major": 2,
       "version_minor": 0
      },
      "text/plain": [
       "MCMC Iteration:   0%|          | 0/10000 [00:00<?, ?it/s]"
      ]
     },
     "metadata": {},
     "output_type": "display_data"
    },
    {
     "data": {
      "application/vnd.jupyter.widget-view+json": {
       "model_id": "bf04feca96d34569947a328095784374",
       "version_major": 2,
       "version_minor": 0
      },
      "text/plain": [
       "MCMC Iteration:   0%|          | 0/10000 [00:00<?, ?it/s]"
      ]
     },
     "metadata": {},
     "output_type": "display_data"
    },
    {
     "data": {
      "application/vnd.jupyter.widget-view+json": {
       "model_id": "92d22daf5c1f446fa60c6501a42f0b56",
       "version_major": 2,
       "version_minor": 0
      },
      "text/plain": [
       "MCMC Iteration:   0%|          | 0/100000 [00:00<?, ?it/s]"
      ]
     },
     "metadata": {},
     "output_type": "display_data"
    },
    {
     "name": "stdout",
     "output_type": "stream",
     "text": [
      "Average test set log-likelihood for each subtype model: [-2805.57071512 -2716.69651406 -2709.85850082 -2718.01642075\n",
      " -2718.64686387]\n",
      "CVIC for each subtype model: [16799.35913861 16239.09734786 16191.49730762 16232.82392463\n",
      " 16244.94633849]\n"
     ]
    }
   ],
   "source": [
    "CVIC, loglike_matrix     = sustain_input.cross_validate_sustain_model(test_idxs)"
   ]
  },
  {
   "cell_type": "code",
   "execution_count": null,
   "id": "c8a80eda",
   "metadata": {},
   "outputs": [],
   "source": []
  }
 ],
 "metadata": {
  "kernelspec": {
   "display_name": "Python 3 (ipykernel)",
   "language": "python",
   "name": "python3"
  },
  "language_info": {
   "codemirror_mode": {
    "name": "ipython",
    "version": 3
   },
   "file_extension": ".py",
   "mimetype": "text/x-python",
   "name": "python",
   "nbconvert_exporter": "python",
   "pygments_lexer": "ipython3",
   "version": "3.8.5"
  }
 },
 "nbformat": 4,
 "nbformat_minor": 5
}
