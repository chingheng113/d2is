{
 "cells": [
  {
   "cell_type": "code",
   "execution_count": 1,
   "metadata": {},
   "outputs": [],
   "source": [
    "# import the python packages needed to generate simulated data for the tutorial\n",
    "import os\n",
    "import shutil\n",
    "import numpy as np\n",
    "import matplotlib.pyplot as plt\n",
    "import pickle\n",
    "from pathlib import Path\n",
    "import sklearn.model_selection\n",
    "import pandas as pd\n",
    "import pylab\n",
    "import sys\n",
    "\n",
    "\n"
   ]
  },
  {
   "cell_type": "code",
   "execution_count": 2,
   "metadata": {},
   "outputs": [
    {
     "data": {
      "text/html": [
       "<div>\n",
       "<style scoped>\n",
       "    .dataframe tbody tr th:only-of-type {\n",
       "        vertical-align: middle;\n",
       "    }\n",
       "\n",
       "    .dataframe tbody tr th {\n",
       "        vertical-align: top;\n",
       "    }\n",
       "\n",
       "    .dataframe thead th {\n",
       "        text-align: right;\n",
       "    }\n",
       "</style>\n",
       "<table border=\"1\" class=\"dataframe\">\n",
       "  <thead>\n",
       "    <tr style=\"text-align: right;\">\n",
       "      <th></th>\n",
       "      <th>Frontal</th>\n",
       "      <th>Temporal</th>\n",
       "      <th>Occipital</th>\n",
       "      <th>Parietal</th>\n",
       "      <th>Thalamus</th>\n",
       "      <th>Caudate</th>\n",
       "      <th>Putamen</th>\n",
       "      <th>Pallidum</th>\n",
       "      <th>S_nigra</th>\n",
       "      <th>Midbrain</th>\n",
       "      <th>Cerebellum_Crus</th>\n",
       "      <th>GM</th>\n",
       "      <th>Background</th>\n",
       "    </tr>\n",
       "  </thead>\n",
       "  <tbody>\n",
       "    <tr>\n",
       "      <th>count</th>\n",
       "      <td>276.000000</td>\n",
       "      <td>276.000000</td>\n",
       "      <td>276.000000</td>\n",
       "      <td>276.000000</td>\n",
       "      <td>276.000000</td>\n",
       "      <td>276.000000</td>\n",
       "      <td>276.000000</td>\n",
       "      <td>276.000000</td>\n",
       "      <td>276.000000</td>\n",
       "      <td>276.000000</td>\n",
       "      <td>276.000000</td>\n",
       "      <td>276.000000</td>\n",
       "      <td>276.000000</td>\n",
       "    </tr>\n",
       "    <tr>\n",
       "      <th>mean</th>\n",
       "      <td>1.001218</td>\n",
       "      <td>1.133157</td>\n",
       "      <td>1.141270</td>\n",
       "      <td>1.026812</td>\n",
       "      <td>1.323791</td>\n",
       "      <td>0.830565</td>\n",
       "      <td>1.160347</td>\n",
       "      <td>1.277064</td>\n",
       "      <td>1.215276</td>\n",
       "      <td>1.183735</td>\n",
       "      <td>0.975432</td>\n",
       "      <td>1.060598</td>\n",
       "      <td>0.389142</td>\n",
       "    </tr>\n",
       "    <tr>\n",
       "      <th>std</th>\n",
       "      <td>0.229507</td>\n",
       "      <td>0.275254</td>\n",
       "      <td>0.239579</td>\n",
       "      <td>0.222101</td>\n",
       "      <td>0.361725</td>\n",
       "      <td>0.167780</td>\n",
       "      <td>0.212238</td>\n",
       "      <td>0.305204</td>\n",
       "      <td>0.292597</td>\n",
       "      <td>0.302753</td>\n",
       "      <td>0.233633</td>\n",
       "      <td>0.226911</td>\n",
       "      <td>0.314944</td>\n",
       "    </tr>\n",
       "    <tr>\n",
       "      <th>min</th>\n",
       "      <td>0.697042</td>\n",
       "      <td>0.740481</td>\n",
       "      <td>0.739111</td>\n",
       "      <td>0.745673</td>\n",
       "      <td>0.553958</td>\n",
       "      <td>0.389441</td>\n",
       "      <td>0.706236</td>\n",
       "      <td>0.577786</td>\n",
       "      <td>0.507054</td>\n",
       "      <td>0.529149</td>\n",
       "      <td>0.400252</td>\n",
       "      <td>0.772350</td>\n",
       "      <td>0.000000</td>\n",
       "    </tr>\n",
       "    <tr>\n",
       "      <th>25%</th>\n",
       "      <td>0.862711</td>\n",
       "      <td>0.963852</td>\n",
       "      <td>0.993407</td>\n",
       "      <td>0.882398</td>\n",
       "      <td>1.052485</td>\n",
       "      <td>0.714597</td>\n",
       "      <td>1.030432</td>\n",
       "      <td>1.090913</td>\n",
       "      <td>1.066163</td>\n",
       "      <td>1.025597</td>\n",
       "      <td>0.850582</td>\n",
       "      <td>0.922001</td>\n",
       "      <td>0.132919</td>\n",
       "    </tr>\n",
       "    <tr>\n",
       "      <th>50%</th>\n",
       "      <td>0.942738</td>\n",
       "      <td>1.065552</td>\n",
       "      <td>1.084137</td>\n",
       "      <td>0.977482</td>\n",
       "      <td>1.267525</td>\n",
       "      <td>0.833962</td>\n",
       "      <td>1.129312</td>\n",
       "      <td>1.239615</td>\n",
       "      <td>1.229411</td>\n",
       "      <td>1.157745</td>\n",
       "      <td>0.962204</td>\n",
       "      <td>1.008604</td>\n",
       "      <td>0.305396</td>\n",
       "    </tr>\n",
       "    <tr>\n",
       "      <th>75%</th>\n",
       "      <td>1.057933</td>\n",
       "      <td>1.224168</td>\n",
       "      <td>1.202600</td>\n",
       "      <td>1.095352</td>\n",
       "      <td>1.541056</td>\n",
       "      <td>0.935269</td>\n",
       "      <td>1.253756</td>\n",
       "      <td>1.408086</td>\n",
       "      <td>1.360058</td>\n",
       "      <td>1.306806</td>\n",
       "      <td>1.079004</td>\n",
       "      <td>1.127873</td>\n",
       "      <td>0.582249</td>\n",
       "    </tr>\n",
       "    <tr>\n",
       "      <th>max</th>\n",
       "      <td>2.639362</td>\n",
       "      <td>2.952233</td>\n",
       "      <td>2.420399</td>\n",
       "      <td>2.440121</td>\n",
       "      <td>2.385130</td>\n",
       "      <td>1.345925</td>\n",
       "      <td>2.637564</td>\n",
       "      <td>2.872776</td>\n",
       "      <td>2.959314</td>\n",
       "      <td>2.673736</td>\n",
       "      <td>2.440079</td>\n",
       "      <td>2.631861</td>\n",
       "      <td>1.329917</td>\n",
       "    </tr>\n",
       "  </tbody>\n",
       "</table>\n",
       "</div>"
      ],
      "text/plain": [
       "          Frontal    Temporal   Occipital    Parietal    Thalamus     Caudate  \\\n",
       "count  276.000000  276.000000  276.000000  276.000000  276.000000  276.000000   \n",
       "mean     1.001218    1.133157    1.141270    1.026812    1.323791    0.830565   \n",
       "std      0.229507    0.275254    0.239579    0.222101    0.361725    0.167780   \n",
       "min      0.697042    0.740481    0.739111    0.745673    0.553958    0.389441   \n",
       "25%      0.862711    0.963852    0.993407    0.882398    1.052485    0.714597   \n",
       "50%      0.942738    1.065552    1.084137    0.977482    1.267525    0.833962   \n",
       "75%      1.057933    1.224168    1.202600    1.095352    1.541056    0.935269   \n",
       "max      2.639362    2.952233    2.420399    2.440121    2.385130    1.345925   \n",
       "\n",
       "          Putamen    Pallidum     S_nigra    Midbrain  Cerebellum_Crus  \\\n",
       "count  276.000000  276.000000  276.000000  276.000000       276.000000   \n",
       "mean     1.160347    1.277064    1.215276    1.183735         0.975432   \n",
       "std      0.212238    0.305204    0.292597    0.302753         0.233633   \n",
       "min      0.706236    0.577786    0.507054    0.529149         0.400252   \n",
       "25%      1.030432    1.090913    1.066163    1.025597         0.850582   \n",
       "50%      1.129312    1.239615    1.229411    1.157745         0.962204   \n",
       "75%      1.253756    1.408086    1.360058    1.306806         1.079004   \n",
       "max      2.637564    2.872776    2.959314    2.673736         2.440079   \n",
       "\n",
       "               GM  Background  \n",
       "count  276.000000  276.000000  \n",
       "mean     1.060598    0.389142  \n",
       "std      0.226911    0.314944  \n",
       "min      0.772350    0.000000  \n",
       "25%      0.922001    0.132919  \n",
       "50%      1.008604    0.305396  \n",
       "75%      1.127873    0.582249  \n",
       "max      2.631861    1.329917  "
      ]
     },
     "execution_count": 2,
     "metadata": {},
     "output_type": "execute_result"
    }
   ],
   "source": [
    "csv_dir = '/home/ccchen/Documents/dr_chang/AI_tau_20211201_details.csv'\n",
    "pre_df = pd.read_csv(csv_dir)\n",
    "df = pre_df[['Frontal','Temporal','Occipital','Parietal','Thalamus','Caudate','Putamen','Pallidum','S_nigra','Midbrain','Cerebellum_Crus','GM','Background']]\n",
    "#print(pre_df.shape, df.shape)\n",
    "df.describe()\n",
    "#null_value_stats = df.isnull().sum(axis=0)\n",
    "#print(null_value_stats)"
   ]
  },
  {
   "cell_type": "code",
   "execution_count": 3,
   "metadata": {},
   "outputs": [
    {
     "name": "stdout",
     "output_type": "stream",
     "text": [
      "1 0.9285952059584163 0.10078409840719009 0.811311092183472\n",
      "Frontal mean =  [[1.31347596]\n",
      " [0.92859521]] std =  [[[0.11429201]]\n",
      "\n",
      " [[0.01015743]]] num = [0.18868891 0.81131109]\n",
      "0 1.0521512700852682 0.14226974174087056 0.8425526734047821\n",
      "Temporal mean =  [[1.05215127]\n",
      " [1.56664621]] std =  [[[0.02024068]]\n",
      "\n",
      " [[0.14812756]]] num = [0.84255267 0.15744733]\n",
      "0 1.0748447076806966 0.12616999752506236 0.8493389913873639\n",
      "Occipital mean =  [[1.07484471]\n",
      " [1.5157352 ]] std =  [[[0.01591887]]\n",
      "\n",
      " [[0.12476172]]] num = [0.84933899 0.15066101]\n",
      "0 0.9674896682211915 0.1181009197916368 0.8599277000404439\n",
      "Parietal mean =  [[0.96748967]\n",
      " [1.39100329]] std =  [[[0.01394783]]\n",
      "\n",
      " [[0.11102986]]] num = [0.8599277 0.1400723]\n",
      "1 1.1361901327321589 0.21198718026831714 0.6732366512933077\n",
      "Thalamus mean =  [[1.71030974]\n",
      " [1.13619013]] std =  [[[0.08448425]]\n",
      "\n",
      " [[0.04493856]]] num = [0.32676335 0.67323665]\n",
      "0 0.7214631301218565 0.13060879422403301 0.45613203864855867\n",
      "Caudate mean =  [[0.72146313]\n",
      " [0.92206589]] std =  [[[0.01705866]]\n",
      "\n",
      " [[0.0189114 ]]] num = [0.45613204 0.54386796]\n",
      "1 1.116314419388041 0.13594379252438749 0.8246718303579625\n",
      "Putamen mean =  [[1.36745722]\n",
      " [1.11631442]] std =  [[[0.11705204]]\n",
      "\n",
      " [[0.01848071]]] num = [0.17532817 0.82467183]\n",
      "1 1.1836011950667813 0.2107537349304772 0.785801441501008\n",
      "Pallidum mean =  [[1.61993856]\n",
      " [1.1836012 ]] std =  [[[0.12074829]]\n",
      "\n",
      " [[0.04441714]]] num = [0.21419856 0.78580144]\n",
      "0 1.2062910248204575 0.40499256074849965 0.4218640903415594\n",
      "S_nigra mean =  [[1.20629102]\n",
      " [1.22183192]] std =  [[[0.16401897]]\n",
      "\n",
      " [[0.02776385]]] num = [0.42186409 0.57813591]\n",
      "1 1.1175114769933245 0.22043684276760764 0.8577372012119457\n",
      "Midbrain mean =  [[1.58301587]\n",
      " [1.11751148]] std =  [[[0.16312486]]\n",
      "\n",
      " [[0.0485924 ]]] num = [0.1422628 0.8577372]\n",
      "1 0.9384167057549777 0.1700329366463616 0.8460246058213634\n",
      "Cerebellum_Crus mean =  [[1.1788169 ]\n",
      " [0.93841671]] std =  [[[0.14547421]]\n",
      "\n",
      " [[0.0289112 ]]] num = [0.15397539 0.84602461]\n",
      "0 0.9911620720662653 0.10733774846336969 0.8251439076946558\n",
      "GM mean =  [[0.99116207]\n",
      " [1.38826631]] std =  [[[0.01152139]]\n",
      "\n",
      " [[0.10891463]]] num = [0.82514391 0.17485609]\n",
      "0 0.17379510469155232 0.11998300961286985 0.5528949843423213\n",
      "Background mean =  [[0.1737951 ]\n",
      " [0.65544339]] std =  [[[0.01439592]]\n",
      "\n",
      " [[0.0749817 ]]] num = [0.55289498 0.44710502]\n"
     ]
    },
    {
     "data": {
      "text/html": [
       "<div>\n",
       "<style scoped>\n",
       "    .dataframe tbody tr th:only-of-type {\n",
       "        vertical-align: middle;\n",
       "    }\n",
       "\n",
       "    .dataframe tbody tr th {\n",
       "        vertical-align: top;\n",
       "    }\n",
       "\n",
       "    .dataframe thead th {\n",
       "        text-align: right;\n",
       "    }\n",
       "</style>\n",
       "<table border=\"1\" class=\"dataframe\">\n",
       "  <thead>\n",
       "    <tr style=\"text-align: right;\">\n",
       "      <th></th>\n",
       "      <th>Frontal</th>\n",
       "      <th>Temporal</th>\n",
       "      <th>Occipital</th>\n",
       "      <th>Parietal</th>\n",
       "      <th>Thalamus</th>\n",
       "      <th>Caudate</th>\n",
       "      <th>Putamen</th>\n",
       "      <th>Pallidum</th>\n",
       "      <th>S_nigra</th>\n",
       "      <th>Midbrain</th>\n",
       "      <th>Cerebellum_Crus</th>\n",
       "      <th>GM</th>\n",
       "      <th>Background</th>\n",
       "    </tr>\n",
       "  </thead>\n",
       "  <tbody>\n",
       "    <tr>\n",
       "      <th>count</th>\n",
       "      <td>276.000000</td>\n",
       "      <td>276.000000</td>\n",
       "      <td>276.000000</td>\n",
       "      <td>276.000000</td>\n",
       "      <td>276.000000</td>\n",
       "      <td>276.000000</td>\n",
       "      <td>276.000000</td>\n",
       "      <td>276.000000</td>\n",
       "      <td>276.000000</td>\n",
       "      <td>276.000000</td>\n",
       "      <td>276.000000</td>\n",
       "      <td>276.000000</td>\n",
       "      <td>276.000000</td>\n",
       "    </tr>\n",
       "    <tr>\n",
       "      <th>mean</th>\n",
       "      <td>0.720577</td>\n",
       "      <td>0.569382</td>\n",
       "      <td>0.526472</td>\n",
       "      <td>0.502304</td>\n",
       "      <td>0.884965</td>\n",
       "      <td>0.835330</td>\n",
       "      <td>0.323902</td>\n",
       "      <td>0.443469</td>\n",
       "      <td>0.022185</td>\n",
       "      <td>0.300421</td>\n",
       "      <td>0.217697</td>\n",
       "      <td>0.646894</td>\n",
       "      <td>1.794816</td>\n",
       "    </tr>\n",
       "    <tr>\n",
       "      <th>std</th>\n",
       "      <td>2.277212</td>\n",
       "      <td>1.934734</td>\n",
       "      <td>1.898858</td>\n",
       "      <td>1.880602</td>\n",
       "      <td>1.706354</td>\n",
       "      <td>1.284602</td>\n",
       "      <td>1.561216</td>\n",
       "      <td>1.448156</td>\n",
       "      <td>0.722475</td>\n",
       "      <td>1.373421</td>\n",
       "      <td>1.374044</td>\n",
       "      <td>2.113994</td>\n",
       "      <td>2.624905</td>\n",
       "    </tr>\n",
       "    <tr>\n",
       "      <th>min</th>\n",
       "      <td>-2.297517</td>\n",
       "      <td>-2.190700</td>\n",
       "      <td>-2.660963</td>\n",
       "      <td>-1.878196</td>\n",
       "      <td>-2.746544</td>\n",
       "      <td>-2.542112</td>\n",
       "      <td>-3.016529</td>\n",
       "      <td>-2.874517</td>\n",
       "      <td>-1.726543</td>\n",
       "      <td>-2.669075</td>\n",
       "      <td>-3.165062</td>\n",
       "      <td>-2.038538</td>\n",
       "      <td>-1.448498</td>\n",
       "    </tr>\n",
       "    <tr>\n",
       "      <th>25%</th>\n",
       "      <td>-0.653714</td>\n",
       "      <td>-0.620649</td>\n",
       "      <td>-0.645458</td>\n",
       "      <td>-0.720495</td>\n",
       "      <td>-0.394862</td>\n",
       "      <td>-0.052568</td>\n",
       "      <td>-0.631748</td>\n",
       "      <td>-0.439793</td>\n",
       "      <td>-0.346001</td>\n",
       "      <td>-0.416965</td>\n",
       "      <td>-0.516575</td>\n",
       "      <td>-0.644331</td>\n",
       "      <td>-0.340680</td>\n",
       "    </tr>\n",
       "    <tr>\n",
       "      <th>50%</th>\n",
       "      <td>0.140333</td>\n",
       "      <td>0.094189</td>\n",
       "      <td>0.073653</td>\n",
       "      <td>0.084608</td>\n",
       "      <td>0.619542</td>\n",
       "      <td>0.861346</td>\n",
       "      <td>0.095610</td>\n",
       "      <td>0.265776</td>\n",
       "      <td>0.057089</td>\n",
       "      <td>0.182520</td>\n",
       "      <td>0.139898</td>\n",
       "      <td>0.162496</td>\n",
       "      <td>1.096829</td>\n",
       "    </tr>\n",
       "    <tr>\n",
       "      <th>75%</th>\n",
       "      <td>1.283315</td>\n",
       "      <td>1.209087</td>\n",
       "      <td>1.012567</td>\n",
       "      <td>1.082651</td>\n",
       "      <td>1.909863</td>\n",
       "      <td>1.636993</td>\n",
       "      <td>1.011021</td>\n",
       "      <td>1.065152</td>\n",
       "      <td>0.379678</td>\n",
       "      <td>0.858723</td>\n",
       "      <td>0.826822</td>\n",
       "      <td>1.273650</td>\n",
       "      <td>3.404262</td>\n",
       "    </tr>\n",
       "    <tr>\n",
       "      <th>max</th>\n",
       "      <td>16.974571</td>\n",
       "      <td>13.355487</td>\n",
       "      <td>10.664614</td>\n",
       "      <td>12.469262</td>\n",
       "      <td>5.891582</td>\n",
       "      <td>4.781163</td>\n",
       "      <td>11.190284</td>\n",
       "      <td>8.014922</td>\n",
       "      <td>4.328531</td>\n",
       "      <td>7.059730</td>\n",
       "      <td>8.831597</td>\n",
       "      <td>15.285386</td>\n",
       "      <td>9.635713</td>\n",
       "    </tr>\n",
       "  </tbody>\n",
       "</table>\n",
       "</div>"
      ],
      "text/plain": [
       "          Frontal    Temporal   Occipital    Parietal    Thalamus     Caudate  \\\n",
       "count  276.000000  276.000000  276.000000  276.000000  276.000000  276.000000   \n",
       "mean     0.720577    0.569382    0.526472    0.502304    0.884965    0.835330   \n",
       "std      2.277212    1.934734    1.898858    1.880602    1.706354    1.284602   \n",
       "min     -2.297517   -2.190700   -2.660963   -1.878196   -2.746544   -2.542112   \n",
       "25%     -0.653714   -0.620649   -0.645458   -0.720495   -0.394862   -0.052568   \n",
       "50%      0.140333    0.094189    0.073653    0.084608    0.619542    0.861346   \n",
       "75%      1.283315    1.209087    1.012567    1.082651    1.909863    1.636993   \n",
       "max     16.974571   13.355487   10.664614   12.469262    5.891582    4.781163   \n",
       "\n",
       "          Putamen    Pallidum     S_nigra    Midbrain  Cerebellum_Crus  \\\n",
       "count  276.000000  276.000000  276.000000  276.000000       276.000000   \n",
       "mean     0.323902    0.443469    0.022185    0.300421         0.217697   \n",
       "std      1.561216    1.448156    0.722475    1.373421         1.374044   \n",
       "min     -3.016529   -2.874517   -1.726543   -2.669075        -3.165062   \n",
       "25%     -0.631748   -0.439793   -0.346001   -0.416965        -0.516575   \n",
       "50%      0.095610    0.265776    0.057089    0.182520         0.139898   \n",
       "75%      1.011021    1.065152    0.379678    0.858723         0.826822   \n",
       "max     11.190284    8.014922    4.328531    7.059730         8.831597   \n",
       "\n",
       "               GM  Background  \n",
       "count  276.000000  276.000000  \n",
       "mean     0.646894    1.794816  \n",
       "std      2.113994    2.624905  \n",
       "min     -2.038538   -1.448498  \n",
       "25%     -0.644331   -0.340680  \n",
       "50%      0.162496    1.096829  \n",
       "75%      1.273650    3.404262  \n",
       "max     15.285386    9.635713  "
      ]
     },
     "execution_count": 3,
     "metadata": {},
     "output_type": "execute_result"
    }
   ],
   "source": [
    "from sklearn.mixture import GaussianMixture\n",
    "new_df = df.copy()\n",
    "\n",
    "for anatomy in df:\n",
    "    \n",
    "    X= np.reshape(df[anatomy].to_numpy(), (-1,1))\n",
    "    \n",
    "    gm = GaussianMixture(n_components=2, random_state=0).fit(X)\n",
    "    index = np.argmin(gm.means_)\n",
    "    s_mean = gm.means_[index].squeeze()\n",
    "    s_std = np.sqrt(gm.covariances_[index].squeeze())\n",
    "    s_weight =gm.weights_[index].squeeze()\n",
    "    print(index, s_mean,s_std,s_weight)\n",
    "    new_df[anatomy]= ((df[anatomy].copy()-s_mean)/s_std) #.apply(lambda x: (x - s_mean)/s_std)\n",
    "    print(anatomy, 'mean = '   , gm.means_  ,'std = ' , gm.covariances_, 'num =',gm.weights_) \n",
    "new_df.describe()"
   ]
  },
  {
   "cell_type": "code",
   "execution_count": 4,
   "metadata": {},
   "outputs": [],
   "source": [
    "import pySuStaIn\n",
    "sys.path.insert(0,'../sim/')\n",
    "from simfuncs import generate_random_Zscore_sustain_model, generate_data_Zscore_sustain"
   ]
  },
  {
   "cell_type": "code",
   "execution_count": 6,
   "metadata": {},
   "outputs": [
    {
     "name": "stdout",
     "output_type": "stream",
     "text": [
      "0.29799138445097406\n",
      "0.8250775664049491\n",
      "1.6244064294955838\n",
      "2.6115441107546564\n"
     ]
    }
   ],
   "source": [
    "df_normal = new_df.to_numpy()\n",
    "small =np.mean( np.quantile(df_normal,0.50,axis =0))\n",
    "med =np.mean(np.quantile(df_normal,0.65,axis =0)) #np.mean(df_normal,axis =0)\n",
    "big =np.mean( np.quantile(df_normal,0.80,axis =0))\n",
    "\n",
    "print(small) #np.mean(df_normal,axis =0))\n",
    "print(med)#np.quantile(df_normal,0.50,axis =0))\n",
    "print(big) #np.quantile(df_normal,0.75,axis =0))\n",
    "\n",
    "print(np.mean(np.quantile(df_normal,0.90,axis =0)))\n",
    "\n",
    "#np.stack([small,med,big],axis = 1)\n",
    "#print(z_stack.shape)\n",
    "#print(z_stack)\n",
    "z_max = np.mean(np.quantile(df_normal,0.90,axis =0))"
   ]
  },
  {
   "cell_type": "code",
   "execution_count": 7,
   "metadata": {},
   "outputs": [
    {
     "name": "stdout",
     "output_type": "stream",
     "text": [
      "13 276 13\n"
     ]
    }
   ],
   "source": [
    "df_normal = new_df.to_numpy()\n",
    "N                       = df_normal.shape[1]         # number of biomarkers\n",
    "M                       = df_normal.shape[0]         # number of observations ( e.g. subjects )\n",
    "#N_S_gt                  = 4                          # number of ground truth subtypes\n",
    "SuStaInLabels  = ['Frontal','Temporal','Occipital','Parietal','Thalamus','Caudate','Putamen','Pallidum','S_nigra','Midbrain','Cerebellum_Crus','GM','Background']\n",
    "print(N,M,len(SuStaInLabels))\n",
    "#for i in range(N):\n",
    "#        SuStaInLabels.append( 'Biomarker '+str(i)) \n",
    "Z_vals                  = np.array([[small,med,big]]*N)     # Z-scores for each biomarker\n",
    "Z_max                   = np.array([z_max]*N)    \n",
    "\n",
    "N_startpoints           = 25                        #The number of startpoints to use when fitting the subtypes hierarchichally. Using 25 from the author's suggestion.\n",
    "N_S_max                 = 3                         #The maximum number of subtypes to fit\n",
    "N_iterations_MCMC       = int(1e5)                  #The number of iterations for the MCMC sampling of the uncertainty in the progression pattern. using 1e5 or 1e6 by the author's suggestion.\n",
    "output_folder = os.path.join(os.getcwd(), 'sim_128')\n",
    "dataset_name = 'sim_128'\n",
    "sustain_input = pySuStaIn.ZscoreSustain(df_normal,\n",
    "                              Z_vals,\n",
    "                              Z_max,\n",
    "                              SuStaInLabels,\n",
    "                              N_startpoints,\n",
    "                              N_S_max, \n",
    "                              N_iterations_MCMC, \n",
    "                              output_folder, \n",
    "                              dataset_name, \n",
    "                              False)\n",
    "if not os.path.isdir(output_folder):\n",
    "    os.mkdir(output_folder)\n"
   ]
  },
  {
   "cell_type": "code",
   "execution_count": 8,
   "metadata": {},
   "outputs": [
    {
     "name": "stdout",
     "output_type": "stream",
     "text": [
      "Failed to find pickle file: /home/ccchen/projects/pySuStaIn/notebooks/sim_128/pickle_files/sim_128_subtype0.pickle. Running SuStaIn model for 0 subtype.\n",
      "Finding ML solution to 1 cluster problem\n",
      "Overall ML likelihood is -7430.159860545203\n"
     ]
    },
    {
     "data": {
      "application/vnd.jupyter.widget-view+json": {
       "model_id": "fc54628891dc41d49a6e26811a1988ce",
       "version_major": 2,
       "version_minor": 0
      },
      "text/plain": [
       "MCMC Iteration:   0%|          | 0/10000 [00:00<?, ?it/s]"
      ]
     },
     "metadata": {},
     "output_type": "display_data"
    },
    {
     "data": {
      "application/vnd.jupyter.widget-view+json": {
       "model_id": "2f0be67cfa7f4123b9572af907035e0f",
       "version_major": 2,
       "version_minor": 0
      },
      "text/plain": [
       "MCMC Iteration:   0%|          | 0/10000 [00:00<?, ?it/s]"
      ]
     },
     "metadata": {},
     "output_type": "display_data"
    },
    {
     "data": {
      "application/vnd.jupyter.widget-view+json": {
       "model_id": "be94f282f6704f7b80548313b28e38a8",
       "version_major": 2,
       "version_minor": 0
      },
      "text/plain": [
       "MCMC Iteration:   0%|          | 0/10000 [00:00<?, ?it/s]"
      ]
     },
     "metadata": {},
     "output_type": "display_data"
    },
    {
     "data": {
      "application/vnd.jupyter.widget-view+json": {
       "model_id": "8a03d91990ef4f0ebd4bca37c03809fb",
       "version_major": 2,
       "version_minor": 0
      },
      "text/plain": [
       "MCMC Iteration:   0%|          | 0/100000 [00:00<?, ?it/s]"
      ]
     },
     "metadata": {},
     "output_type": "display_data"
    },
    {
     "name": "stdout",
     "output_type": "stream",
     "text": [
      "Failed to find pickle file: /home/ccchen/projects/pySuStaIn/notebooks/sim_128/pickle_files/sim_128_subtype1.pickle. Running SuStaIn model for 1 subtype.\n",
      "Splitting cluster 1 of 1\n",
      " + Resolving 2 cluster problem\n",
      " + Finding ML solution from hierarchical initialisation\n",
      "- ML likelihood is [-7134.53244059]\n",
      "Overall ML likelihood is [-7134.53244059]\n"
     ]
    },
    {
     "data": {
      "application/vnd.jupyter.widget-view+json": {
       "model_id": "6beba98c52ee4b0581f1a5ca9387b802",
       "version_major": 2,
       "version_minor": 0
      },
      "text/plain": [
       "MCMC Iteration:   0%|          | 0/10000 [00:00<?, ?it/s]"
      ]
     },
     "metadata": {},
     "output_type": "display_data"
    },
    {
     "data": {
      "application/vnd.jupyter.widget-view+json": {
       "model_id": "8a51ef1dbfb3461482b6e72d9a18ae6a",
       "version_major": 2,
       "version_minor": 0
      },
      "text/plain": [
       "MCMC Iteration:   0%|          | 0/10000 [00:00<?, ?it/s]"
      ]
     },
     "metadata": {},
     "output_type": "display_data"
    },
    {
     "data": {
      "application/vnd.jupyter.widget-view+json": {
       "model_id": "c9acafd8655d4febaf3411fbfc5a2316",
       "version_major": 2,
       "version_minor": 0
      },
      "text/plain": [
       "MCMC Iteration:   0%|          | 0/10000 [00:00<?, ?it/s]"
      ]
     },
     "metadata": {},
     "output_type": "display_data"
    },
    {
     "data": {
      "application/vnd.jupyter.widget-view+json": {
       "model_id": "601ec8cfa1be4b40a3d4b0073567c629",
       "version_major": 2,
       "version_minor": 0
      },
      "text/plain": [
       "MCMC Iteration:   0%|          | 0/100000 [00:00<?, ?it/s]"
      ]
     },
     "metadata": {},
     "output_type": "display_data"
    },
    {
     "name": "stdout",
     "output_type": "stream",
     "text": [
      "Failed to find pickle file: /home/ccchen/projects/pySuStaIn/notebooks/sim_128/pickle_files/sim_128_subtype2.pickle. Running SuStaIn model for 2 subtype.\n",
      "Splitting cluster 1 of 2\n",
      " + Resolving 2 cluster problem\n",
      " + Finding ML solution from hierarchical initialisation\n",
      "- ML likelihood is [-7101.77661192]\n",
      "Splitting cluster 2 of 2\n",
      " + Resolving 2 cluster problem\n",
      " + Finding ML solution from hierarchical initialisation\n",
      "- ML likelihood is [-7108.80147741]\n",
      "Overall ML likelihood is [-7101.77661192]\n"
     ]
    },
    {
     "data": {
      "application/vnd.jupyter.widget-view+json": {
       "model_id": "9f5a4ab1280a43d3bf741aaa680fe7b4",
       "version_major": 2,
       "version_minor": 0
      },
      "text/plain": [
       "MCMC Iteration:   0%|          | 0/10000 [00:00<?, ?it/s]"
      ]
     },
     "metadata": {},
     "output_type": "display_data"
    },
    {
     "data": {
      "application/vnd.jupyter.widget-view+json": {
       "model_id": "9e8ba7a3b66f49ce8356d772fe23f78a",
       "version_major": 2,
       "version_minor": 0
      },
      "text/plain": [
       "MCMC Iteration:   0%|          | 0/10000 [00:00<?, ?it/s]"
      ]
     },
     "metadata": {},
     "output_type": "display_data"
    },
    {
     "data": {
      "application/vnd.jupyter.widget-view+json": {
       "model_id": "6009abbbd2544c79b9d767956aad4c42",
       "version_major": 2,
       "version_minor": 0
      },
      "text/plain": [
       "MCMC Iteration:   0%|          | 0/10000 [00:00<?, ?it/s]"
      ]
     },
     "metadata": {},
     "output_type": "display_data"
    },
    {
     "data": {
      "application/vnd.jupyter.widget-view+json": {
       "model_id": "cd3d585c52f1485b9f7c568a7145d1e4",
       "version_major": 2,
       "version_minor": 0
      },
      "text/plain": [
       "MCMC Iteration:   0%|          | 0/100000 [00:00<?, ?it/s]"
      ]
     },
     "metadata": {},
     "output_type": "display_data"
    }
   ],
   "source": [
    "# runs the sustain algorithm with the inputs set in sustain_input above\n",
    "samples_sequence,   \\\n",
    "samples_f,          \\\n",
    "ml_subtype,         \\\n",
    "prob_ml_subtype,    \\\n",
    "ml_stage,           \\\n",
    "prob_ml_stage,      \\\n",
    "prob_subtype_stage  = sustain_input.run_sustain_algorithm()\n"
   ]
  },
  {
   "cell_type": "code",
   "execution_count": 9,
   "metadata": {},
   "outputs": [
    {
     "name": "stderr",
     "output_type": "stream",
     "text": [
      "/home/ccchen/miniconda3/envs/ssl/lib/python3.7/site-packages/ipykernel_launcher.py:1: SettingWithCopyWarning: \n",
      "A value is trying to be set on a copy of a slice from a DataFrame.\n",
      "Try using .loc[row_indexer,col_indexer] = value instead\n",
      "\n",
      "See the caveats in the documentation: https://pandas.pydata.org/pandas-docs/stable/user_guide/indexing.html#returning-a-view-versus-a-copy\n",
      "  \"\"\"Entry point for launching an IPython kernel.\n",
      "/home/ccchen/miniconda3/envs/ssl/lib/python3.7/site-packages/ipykernel_launcher.py:3: SettingWithCopyWarning: \n",
      "A value is trying to be set on a copy of a slice from a DataFrame.\n",
      "Try using .loc[row_indexer,col_indexer] = value instead\n",
      "\n",
      "See the caveats in the documentation: https://pandas.pydata.org/pandas-docs/stable/user_guide/indexing.html#returning-a-view-versus-a-copy\n",
      "  This is separate from the ipykernel package so we can avoid doing imports until\n"
     ]
    }
   ],
   "source": [
    "df['subtype']=pd.Series(ml_subtype[:,0])\n",
    "\n",
    "df['stage'] = pd.Series(ml_stage[:,0])\n",
    "\n",
    "df=df.sort_values(['subtype', 'stage'])\n",
    "\n",
    "save_dir = '/home/ccchen/Documents/dr_chang/ai_tau_3_cluster_initial_128.csv'\n",
    "df.to_csv(save_dir)"
   ]
  },
  {
   "cell_type": "code",
   "execution_count": 14,
   "metadata": {},
   "outputs": [
    {
     "data": {
      "image/png": "[encoded data removed]",
      "text/plain": [
       "<Figure size 432x288 with 1 Axes>"
      ]
     },
     "metadata": {
      "needs_background": "light"
     },
     "output_type": "display_data"
    }
   ],
   "source": [
    "cluster_df =df[df['subtype']==2]\n",
    "c_train = cluster_df.drop(['subtype','stage'], axis = 1)\n",
    "l_train = cluster_df['stage']\n",
    "c_train.describe()\n",
    "\n",
    "from sklearn import tree\n",
    "clf = tree.DecisionTreeClassifier(max_depth =5)\n",
    "clf = clf.fit(c_train, l_train)\n",
    "import matplotlib.pyplot as plt\n",
    "\n",
    "plt.figure()\n",
    "tree.plot_tree(clf,filled=True)  \n",
    "plt.savefig('tree_quantile_5_initial_3.eps',format='eps',bbox_inches = \"tight\")"
   ]
  },
  {
   "cell_type": "code",
   "execution_count": 10,
   "metadata": {},
   "outputs": [
    {
     "name": "stdout",
     "output_type": "stream",
     "text": [
      "[0.29799138 0.82507757 1.62440643]\n",
      "[0.29799138 0.82507757 1.62440643]\n",
      "[0.29799138 0.82507757 1.62440643]\n"
     ]
    },
    {
     "data": {
      "image/png": "[encoded data removed]",
      "text/plain": [
       "<Figure size 432x288 with 4 Axes>"
      ]
     },
     "metadata": {
      "needs_background": "light"
     },
     "output_type": "display_data"
    }
   ],
   "source": [
    "# The code below opens the results for the ground truth number of subtypes\n",
    "# and plots the output\n",
    "s = N_S_max-1\n",
    "\n",
    "pickle_filename_s           = output_folder + '/pickle_files/' + dataset_name + '_subtype' + str(s) + '.pickle'\n",
    "pickle_filepath             = Path(pickle_filename_s)\n",
    "pickle_file                 = open(pickle_filename_s, 'rb')\n",
    "loaded_variables            = pickle.load(pickle_file)\n",
    "samples_sequence            = loaded_variables[\"samples_sequence\"]\n",
    "samples_f                   = loaded_variables[\"samples_f\"]\n",
    "\n",
    "\n",
    "pickle_file.close()\n",
    "\n",
    "pySuStaIn.ZscoreSustain._plot_sustain_model(sustain_input,samples_sequence,samples_f,M)\n",
    "_ = plt.suptitle('3 cluster: SuStaIn output')\n"
   ]
  },
  {
   "cell_type": "code",
   "execution_count": null,
   "metadata": {},
   "outputs": [],
   "source": []
  }
 ],
 "metadata": {
  "kernelspec": {
   "display_name": "Python 3",
   "language": "python",
   "name": "python3"
  },
  "language_info": {
   "codemirror_mode": {
    "name": "ipython",
    "version": 3
   },
   "file_extension": ".py",
   "mimetype": "text/x-python",
   "name": "python",
   "nbconvert_exporter": "python",
   "pygments_lexer": "ipython3",
   "version": "3.7.10"
  }
 },
 "nbformat": 4,
 "nbformat_minor": 4
}
