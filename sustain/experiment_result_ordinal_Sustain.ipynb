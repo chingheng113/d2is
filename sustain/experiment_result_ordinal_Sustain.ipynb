{
 "cells": [
  {
   "cell_type": "code",
   "execution_count": 1,
   "id": "aaca5f17",
   "metadata": {},
   "outputs": [],
   "source": [
    "# import the python packages needed to generate simulated data for the tutorial\n",
    "import os\n",
    "import shutil\n",
    "import numpy as np\n",
    "import matplotlib.pyplot as plt\n",
    "import pickle\n",
    "from pathlib import Path\n",
    "import sklearn.model_selection\n",
    "import pandas as pd\n",
    "import pylab\n",
    "import sys\n",
    "import pySuStaIn\n",
    "\n",
    "sys.path.insert(0,'../sim/')\n",
    "from simfuncs import generate_random_Zscore_sustain_model, generate_data_Zscore_sustain"
   ]
  },
  {
   "cell_type": "code",
   "execution_count": null,
   "id": "c5f92d2b",
   "metadata": {},
   "outputs": [],
   "source": []
  },
  {
   "cell_type": "code",
   "execution_count": 2,
   "id": "225899f0",
   "metadata": {},
   "outputs": [
    {
     "name": "stdout",
     "output_type": "stream",
     "text": [
      "(276, 18) (276, 12)\n"
     ]
    },
    {
     "data": {
      "text/html": [
       "<div>\n",
       "<style scoped>\n",
       "    .dataframe tbody tr th:only-of-type {\n",
       "        vertical-align: middle;\n",
       "    }\n",
       "\n",
       "    .dataframe tbody tr th {\n",
       "        vertical-align: top;\n",
       "    }\n",
       "\n",
       "    .dataframe thead th {\n",
       "        text-align: right;\n",
       "    }\n",
       "</style>\n",
       "<table border=\"1\" class=\"dataframe\">\n",
       "  <thead>\n",
       "    <tr style=\"text-align: right;\">\n",
       "      <th></th>\n",
       "      <th>Frontal</th>\n",
       "      <th>Temporal</th>\n",
       "      <th>Occipital</th>\n",
       "      <th>Parietal</th>\n",
       "      <th>Thalamus</th>\n",
       "      <th>Caudate</th>\n",
       "      <th>Putamen</th>\n",
       "      <th>Pallidum</th>\n",
       "      <th>S_nigra</th>\n",
       "      <th>Midbrain</th>\n",
       "      <th>Cerebellum_Crus</th>\n",
       "      <th>GM</th>\n",
       "    </tr>\n",
       "  </thead>\n",
       "  <tbody>\n",
       "    <tr>\n",
       "      <th>count</th>\n",
       "      <td>276.000000</td>\n",
       "      <td>276.000000</td>\n",
       "      <td>276.000000</td>\n",
       "      <td>276.000000</td>\n",
       "      <td>276.000000</td>\n",
       "      <td>276.000000</td>\n",
       "      <td>276.000000</td>\n",
       "      <td>276.000000</td>\n",
       "      <td>276.000000</td>\n",
       "      <td>276.000000</td>\n",
       "      <td>276.000000</td>\n",
       "      <td>276.000000</td>\n",
       "    </tr>\n",
       "    <tr>\n",
       "      <th>mean</th>\n",
       "      <td>1.423913</td>\n",
       "      <td>0.920290</td>\n",
       "      <td>1.014493</td>\n",
       "      <td>2.097826</td>\n",
       "      <td>1.148551</td>\n",
       "      <td>1.380435</td>\n",
       "      <td>1.144928</td>\n",
       "      <td>1.054348</td>\n",
       "      <td>0.927536</td>\n",
       "      <td>0.923913</td>\n",
       "      <td>1.355072</td>\n",
       "      <td>0.706522</td>\n",
       "    </tr>\n",
       "    <tr>\n",
       "      <th>std</th>\n",
       "      <td>0.691250</td>\n",
       "      <td>0.903018</td>\n",
       "      <td>0.831083</td>\n",
       "      <td>0.923154</td>\n",
       "      <td>0.750538</td>\n",
       "      <td>0.992800</td>\n",
       "      <td>0.768003</td>\n",
       "      <td>0.621391</td>\n",
       "      <td>0.567453</td>\n",
       "      <td>0.619097</td>\n",
       "      <td>0.825068</td>\n",
       "      <td>0.811795</td>\n",
       "    </tr>\n",
       "    <tr>\n",
       "      <th>min</th>\n",
       "      <td>0.000000</td>\n",
       "      <td>0.000000</td>\n",
       "      <td>0.000000</td>\n",
       "      <td>0.000000</td>\n",
       "      <td>0.000000</td>\n",
       "      <td>0.000000</td>\n",
       "      <td>0.000000</td>\n",
       "      <td>0.000000</td>\n",
       "      <td>0.000000</td>\n",
       "      <td>0.000000</td>\n",
       "      <td>0.000000</td>\n",
       "      <td>0.000000</td>\n",
       "    </tr>\n",
       "    <tr>\n",
       "      <th>25%</th>\n",
       "      <td>1.000000</td>\n",
       "      <td>0.000000</td>\n",
       "      <td>0.000000</td>\n",
       "      <td>1.000000</td>\n",
       "      <td>1.000000</td>\n",
       "      <td>1.000000</td>\n",
       "      <td>1.000000</td>\n",
       "      <td>1.000000</td>\n",
       "      <td>1.000000</td>\n",
       "      <td>1.000000</td>\n",
       "      <td>1.000000</td>\n",
       "      <td>0.000000</td>\n",
       "    </tr>\n",
       "    <tr>\n",
       "      <th>50%</th>\n",
       "      <td>1.000000</td>\n",
       "      <td>1.000000</td>\n",
       "      <td>1.000000</td>\n",
       "      <td>2.000000</td>\n",
       "      <td>1.000000</td>\n",
       "      <td>1.000000</td>\n",
       "      <td>1.000000</td>\n",
       "      <td>1.000000</td>\n",
       "      <td>1.000000</td>\n",
       "      <td>1.000000</td>\n",
       "      <td>1.000000</td>\n",
       "      <td>1.000000</td>\n",
       "    </tr>\n",
       "    <tr>\n",
       "      <th>75%</th>\n",
       "      <td>2.000000</td>\n",
       "      <td>1.000000</td>\n",
       "      <td>1.000000</td>\n",
       "      <td>3.000000</td>\n",
       "      <td>2.000000</td>\n",
       "      <td>2.000000</td>\n",
       "      <td>2.000000</td>\n",
       "      <td>1.000000</td>\n",
       "      <td>1.000000</td>\n",
       "      <td>1.000000</td>\n",
       "      <td>2.000000</td>\n",
       "      <td>1.000000</td>\n",
       "    </tr>\n",
       "    <tr>\n",
       "      <th>max</th>\n",
       "      <td>3.000000</td>\n",
       "      <td>3.000000</td>\n",
       "      <td>3.000000</td>\n",
       "      <td>3.000000</td>\n",
       "      <td>3.000000</td>\n",
       "      <td>3.000000</td>\n",
       "      <td>3.000000</td>\n",
       "      <td>3.000000</td>\n",
       "      <td>3.000000</td>\n",
       "      <td>3.000000</td>\n",
       "      <td>3.000000</td>\n",
       "      <td>3.000000</td>\n",
       "    </tr>\n",
       "  </tbody>\n",
       "</table>\n",
       "</div>"
      ],
      "text/plain": [
       "          Frontal    Temporal   Occipital    Parietal    Thalamus     Caudate  \\\n",
       "count  276.000000  276.000000  276.000000  276.000000  276.000000  276.000000   \n",
       "mean     1.423913    0.920290    1.014493    2.097826    1.148551    1.380435   \n",
       "std      0.691250    0.903018    0.831083    0.923154    0.750538    0.992800   \n",
       "min      0.000000    0.000000    0.000000    0.000000    0.000000    0.000000   \n",
       "25%      1.000000    0.000000    0.000000    1.000000    1.000000    1.000000   \n",
       "50%      1.000000    1.000000    1.000000    2.000000    1.000000    1.000000   \n",
       "75%      2.000000    1.000000    1.000000    3.000000    2.000000    2.000000   \n",
       "max      3.000000    3.000000    3.000000    3.000000    3.000000    3.000000   \n",
       "\n",
       "          Putamen    Pallidum     S_nigra    Midbrain  Cerebellum_Crus  \\\n",
       "count  276.000000  276.000000  276.000000  276.000000       276.000000   \n",
       "mean     1.144928    1.054348    0.927536    0.923913         1.355072   \n",
       "std      0.768003    0.621391    0.567453    0.619097         0.825068   \n",
       "min      0.000000    0.000000    0.000000    0.000000         0.000000   \n",
       "25%      1.000000    1.000000    1.000000    1.000000         1.000000   \n",
       "50%      1.000000    1.000000    1.000000    1.000000         1.000000   \n",
       "75%      2.000000    1.000000    1.000000    1.000000         2.000000   \n",
       "max      3.000000    3.000000    3.000000    3.000000         3.000000   \n",
       "\n",
       "               GM  \n",
       "count  276.000000  \n",
       "mean     0.706522  \n",
       "std      0.811795  \n",
       "min      0.000000  \n",
       "25%      0.000000  \n",
       "50%      1.000000  \n",
       "75%      1.000000  \n",
       "max      3.000000  "
      ]
     },
     "execution_count": 2,
     "metadata": {},
     "output_type": "execute_result"
    }
   ],
   "source": [
    "\n",
    "\n",
    "csv_dir = '/home/ccchen/Documents/dr_chang/ai_tau_20211101.csv'\n",
    "pre_df = pd.read_csv(csv_dir)\n",
    "df = pre_df[['Frontal','Temporal','Occipital','Parietal','Thalamus','Caudate','Putamen','Pallidum','S_nigra','Midbrain','Cerebellum_Crus','GM']]\n",
    "print(pre_df.shape, df.shape)\n",
    "df.describe()"
   ]
  },
  {
   "cell_type": "code",
   "execution_count": 3,
   "id": "c483fa0b",
   "metadata": {},
   "outputs": [
    {
     "name": "stdout",
     "output_type": "stream",
     "text": [
      "3\n"
     ]
    }
   ],
   "source": [
    "df_numpy = df.to_numpy()\n",
    "N_scores= 3#len(np.unique(df_numpy))\n",
    "print(N_scores)\n",
    "p_correct = 0.9\n",
    "n_samples = df_numpy.shape[0]\n",
    "n_biomarkers = df_numpy.shape[1]\n",
    "#p_nl_dist = np.full((N_scores+1), (1-p_correct)/(N_scores))\n",
    "prob_nl = np.where(df_numpy >0, (1-p_correct)/(N_scores), p_correct)\n",
    "\n"
   ]
  },
  {
   "cell_type": "code",
   "execution_count": 4,
   "id": "beb03176",
   "metadata": {},
   "outputs": [],
   "source": [
    "prob_score = np.zeros((n_samples, n_biomarkers, N_scores))\n",
    "p_score_dist = np.full((N_scores, N_scores+1), (1-p_correct)/(N_scores))\n",
    "for score in range(N_scores):\n",
    "    p_score_dist[score,score+1] = p_correct\n",
    "\n",
    "for n in range(n_biomarkers):\n",
    "            for z in range(N_scores):\n",
    "                for score in range(N_scores+1):\n",
    "                    prob_score[df_numpy[:, n] == score, n, z] = p_score_dist[z, score]"
   ]
  },
  {
   "cell_type": "code",
   "execution_count": 5,
   "id": "95eedb39",
   "metadata": {},
   "outputs": [
    {
     "name": "stdout",
     "output_type": "stream",
     "text": [
      "[[1 2 3]\n",
      " [1 2 3]\n",
      " [1 2 3]\n",
      " [1 2 3]\n",
      " [1 2 3]\n",
      " [1 2 3]\n",
      " [1 2 3]\n",
      " [1 2 3]\n",
      " [1 2 3]\n",
      " [1 2 3]\n",
      " [1 2 3]\n",
      " [1 2 3]]\n"
     ]
    }
   ],
   "source": [
    "score_vals = np.tile(np.arange(1, N_scores+1), (n_biomarkers, 1))\n",
    "print(score_vals)\n",
    "SuStaInLabels           = ['Frontal','Temporal','Occipital','Parietal','Thalamus','Caudate','Putamen','Pallidum','S_nigra','Midbrain','Cerebellum_Crus','GM']\n",
    "\n",
    "\n",
    "N_startpoints           = 25                        #The number of startpoints to use when fitting the subtypes hierarchichally. Using 25 from the author's suggestion.\n",
    "N_S_max                 = 3                         #The maximum number of subtypes to fit\n",
    "N_iterations_MCMC       = int(1e5)                  #The number of iterations for the MCMC sampling of the uncertainty in the progression pattern. using 1e5 or 1e6 by the author's suggestion.\n",
    "output_folder = os.path.join(os.getcwd(), 'sim')\n",
    "dataset_name = 'sim'\n",
    "sustain_input = pySuStaIn.OrdinalSustain(prob_nl,\n",
    "                              prob_score,\n",
    "                              score_vals,         \n",
    "                              SuStaInLabels,\n",
    "                              N_startpoints,\n",
    "                              N_S_max, \n",
    "                              N_iterations_MCMC, \n",
    "                              output_folder, \n",
    "                              dataset_name, \n",
    "                              False)\n",
    "if not os.path.isdir(output_folder):\n",
    "    os.mkdir(output_folder)"
   ]
  },
  {
   "cell_type": "code",
   "execution_count": 6,
   "id": "fb8a87de",
   "metadata": {
    "scrolled": true
   },
   "outputs": [
    {
     "name": "stdout",
     "output_type": "stream",
     "text": [
      "Found pickle file: /home/ccchen/projects/pySuStaIn/notebooks/sim/pickle_files/sim_subtype0.pickle. Using pickled variables for 0 subtype.\n",
      "Found pickle file: /home/ccchen/projects/pySuStaIn/notebooks/sim/pickle_files/sim_subtype1.pickle. Using pickled variables for 1 subtype.\n",
      "Found pickle file: /home/ccchen/projects/pySuStaIn/notebooks/sim/pickle_files/sim_subtype2.pickle. Using pickled variables for 2 subtype.\n"
     ]
    }
   ],
   "source": [
    "# runs the sustain algorithm with the inputs set in sustain_input above\n",
    "samples_sequence,   \\\n",
    "samples_f,          \\\n",
    "ml_subtype,         \\\n",
    "prob_ml_subtype,    \\\n",
    "ml_stage,           \\\n",
    "prob_ml_stage,      \\\n",
    "prob_subtype_stage  = sustain_input.run_sustain_algorithm()\n"
   ]
  },
  {
   "cell_type": "code",
   "execution_count": 7,
   "id": "4d349e92",
   "metadata": {},
   "outputs": [
    {
     "name": "stderr",
     "output_type": "stream",
     "text": [
      "/home/ccchen/miniconda3/envs/dl_37/lib/python3.7/site-packages/ipykernel_launcher.py:1: SettingWithCopyWarning: \n",
      "A value is trying to be set on a copy of a slice from a DataFrame.\n",
      "Try using .loc[row_indexer,col_indexer] = value instead\n",
      "\n",
      "See the caveats in the documentation: https://pandas.pydata.org/pandas-docs/stable/user_guide/indexing.html#returning-a-view-versus-a-copy\n",
      "  \"\"\"Entry point for launching an IPython kernel.\n",
      "/home/ccchen/miniconda3/envs/dl_37/lib/python3.7/site-packages/ipykernel_launcher.py:3: SettingWithCopyWarning: \n",
      "A value is trying to be set on a copy of a slice from a DataFrame.\n",
      "Try using .loc[row_indexer,col_indexer] = value instead\n",
      "\n",
      "See the caveats in the documentation: https://pandas.pydata.org/pandas-docs/stable/user_guide/indexing.html#returning-a-view-versus-a-copy\n",
      "  This is separate from the ipykernel package so we can avoid doing imports until\n"
     ]
    }
   ],
   "source": [
    "\n",
    "df['subtype']=pd.Series(ml_subtype[:,0])\n",
    "\n",
    "df['stage'] = pd.Series(ml_stage[:,0])\n",
    "\n",
    "df=df.sort_values(['subtype', 'stage'])\n",
    "\n",
    "save_dir = '/home/ccchen/Documents/dr_chang/ai_tau_3_ordinal_sort_score3.csv'\n",
    "df.to_csv(save_dir)\n",
    "\n",
    "\n",
    "\n",
    "\n"
   ]
  },
  {
   "cell_type": "code",
   "execution_count": 8,
   "id": "659bac4b",
   "metadata": {},
   "outputs": [
    {
     "name": "stdout",
     "output_type": "stream",
     "text": [
      "[[1 1 1 1 1 1 1 1 1 1 1 1 2 2 2 2 2 2 2 2 2 2 2 2 3 3 3 3 3 3 3 3 3 3 3 3]]\n",
      "[1 2 3]\n",
      "[[1 1 1 1 1 1 1 1 1 1 1 1 2 2 2 2 2 2 2 2 2 2 2 2 3 3 3 3 3 3 3 3 3 3 3 3]]\n",
      "[1 2 3]\n",
      "[[1 1 1 1 1 1 1 1 1 1 1 1 2 2 2 2 2 2 2 2 2 2 2 2 3 3 3 3 3 3 3 3 3 3 3 3]]\n",
      "[1 2 3]\n"
     ]
    },
    {
     "data": {
      "image/png": "[encoded data removed]",
      "text/plain": [
       "<Figure size 1440x720 with 4 Axes>"
      ]
     },
     "metadata": {
      "needs_background": "light"
     },
     "output_type": "display_data"
    }
   ],
   "source": [
    "\n",
    "# The code below opens the results for the ground truth number of subtypes\n",
    "# and plots the output\n",
    "s = N_S_max-1\n",
    "\n",
    "pickle_filename_s           = output_folder + '/pickle_files/' + dataset_name + '_subtype' + str(s) + '.pickle'\n",
    "pickle_filepath             = Path(pickle_filename_s)\n",
    "pickle_file                 = open(pickle_filename_s, 'rb')\n",
    "loaded_variables            = pickle.load(pickle_file)\n",
    "samples_sequence            = loaded_variables[\"samples_sequence\"]\n",
    "samples_f                   = loaded_variables[\"samples_f\"]\n",
    "\n",
    "\n",
    "pickle_file.close()\n",
    "M                       = df_numpy.shape[0] \n",
    "\n",
    "pySuStaIn.OrdinalSustain._plot_sustain_model(sustain_input,samples_sequence,samples_f,M)\n",
    "_ = plt.suptitle('3 cluster: SuStaIn output')\n"
   ]
  },
  {
   "cell_type": "code",
   "execution_count": null,
   "id": "72d8dddc",
   "metadata": {},
   "outputs": [],
   "source": []
  },
  {
   "cell_type": "markdown",
   "id": "39f96d79",
   "metadata": {},
   "source": [
    "\n",
    "\n",
    "event number (by default) = (number of stages) * (number of biomakers)\n",
    "intuitively, events corresponds to 'the severity of some biomaker increases' \n",
    "to interpret the following figures, rgb represents the severity score (1,2,3)\n",
    ", and the light <-> dark represents the portion of \n",
    "\n"
   ]
  },
  {
   "cell_type": "code",
   "execution_count": 9,
   "id": "42c93951",
   "metadata": {},
   "outputs": [
    {
     "data": {
      "image/png": "[encoded data removed]",
      "text/plain": [
       "<Figure size 432x288 with 1 Axes>"
      ]
     },
     "metadata": {
      "needs_background": "light"
     },
     "output_type": "display_data"
    }
   ],
   "source": [
    "cluster_df =df[df['subtype']==0]\n",
    "c_train = cluster_df.drop(['subtype','stage'], axis = 1)\n",
    "l_train = cluster_df['stage']\n",
    "c_train.describe()\n",
    "\n",
    "from sklearn import tree\n",
    "clf = tree.DecisionTreeClassifier(max_depth =5)\n",
    "clf = clf.fit(c_train, l_train)\n",
    "import matplotlib.pyplot as plt\n",
    "\n",
    "plt.figure()\n",
    "tree.plot_tree(clf,filled=True)  \n",
    "plt.savefig('tree_quantile_5.eps',format='eps',bbox_inches = \"tight\")"
   ]
  },
  {
   "cell_type": "code",
   "execution_count": 10,
   "id": "a1818f5d",
   "metadata": {},
   "outputs": [
    {
     "data": {
      "image/png": "[encoded data removed]",
      "text/plain": [
       "<Figure size 432x288 with 1 Axes>"
      ]
     },
     "metadata": {
      "needs_background": "light"
     },
     "output_type": "display_data"
    },
    {
     "data": {
      "image/png": "[encoded data removed]",
      "text/plain": [
       "<Figure size 432x288 with 1 Axes>"
      ]
     },
     "metadata": {
      "needs_background": "light"
     },
     "output_type": "display_data"
    }
   ],
   "source": [
    "# go through each subtypes model and plot MCMC samples of the likelihood\n",
    "for s in range(N_S_max):\n",
    "    pickle_filename_s           = output_folder + '/pickle_files/' + dataset_name + '_subtype' + str(s) + '.pickle'\n",
    "    pickle_filepath             = Path(pickle_filename_s)\n",
    "    pickle_file                 = open(pickle_filename_s, 'rb')\n",
    "    loaded_variables            = pickle.load(pickle_file)\n",
    "    samples_likelihood          = loaded_variables[\"samples_likelihood\"]\n",
    "    pickle_file.close()\n",
    "\n",
    "    _ = plt.figure(0)\n",
    "    _ = plt.plot(range(N_iterations_MCMC), samples_likelihood, label=\"subtype\" + str(s))\n",
    "    _ = plt.figure(1)\n",
    "    _ = plt.hist(samples_likelihood, label=\"subtype\" + str(s))\n",
    "    \n",
    "_ = plt.figure(0)\n",
    "_ = plt.legend(loc='upper right')\n",
    "_ = plt.xlabel('MCMC samples')\n",
    "_ = plt.ylabel('Log likelihood')\n",
    "_ = plt.title('Figure 5: MCMC trace')\n",
    "    \n",
    "_ = plt.figure(1)\n",
    "_ = plt.legend(loc='upper right')\n",
    "_ = plt.xlabel('Log likelihood')  \n",
    "_ = plt.ylabel('Number of samples')  \n",
    "_ = plt.title('Figure 6: Histograms of model likelihood')"
   ]
  },
  {
   "cell_type": "code",
   "execution_count": null,
   "id": "21a9cfe0",
   "metadata": {},
   "outputs": [],
   "source": []
  },
  {
   "cell_type": "code",
   "execution_count": null,
   "id": "3904b769",
   "metadata": {},
   "outputs": [],
   "source": []
  }
 ],
 "metadata": {
  "kernelspec": {
   "display_name": "Python 3 (ipykernel)",
   "language": "python",
   "name": "python3"
  },
  "language_info": {
   "codemirror_mode": {
    "name": "ipython",
    "version": 3
   },
   "file_extension": ".py",
   "mimetype": "text/x-python",
   "name": "python",
   "nbconvert_exporter": "python",
   "pygments_lexer": "ipython3",
   "version": "3.7.11"
  }
 },
 "nbformat": 4,
 "nbformat_minor": 5
}
