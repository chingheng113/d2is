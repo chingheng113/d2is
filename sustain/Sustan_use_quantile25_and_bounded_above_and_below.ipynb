{
 "cells": [
  {
   "cell_type": "code",
   "execution_count": 1,
   "metadata": {},
   "outputs": [],
   "source": [
    "# import the python packages needed to generate simulated data for the tutorial\n",
    "import os\n",
    "import shutil\n",
    "import numpy as np\n",
    "import matplotlib.pyplot as plt\n",
    "import pickle\n",
    "from pathlib import Path\n",
    "import sklearn.model_selection\n",
    "import pandas as pd\n",
    "import pylab\n",
    "import sys\n",
    "\n",
    "\n"
   ]
  },
  {
   "cell_type": "code",
   "execution_count": 55,
   "metadata": {},
   "outputs": [
    {
     "data": {
      "text/html": [
       "<div>\n",
       "<style scoped>\n",
       "    .dataframe tbody tr th:only-of-type {\n",
       "        vertical-align: middle;\n",
       "    }\n",
       "\n",
       "    .dataframe tbody tr th {\n",
       "        vertical-align: top;\n",
       "    }\n",
       "\n",
       "    .dataframe thead th {\n",
       "        text-align: right;\n",
       "    }\n",
       "</style>\n",
       "<table border=\"1\" class=\"dataframe\">\n",
       "  <thead>\n",
       "    <tr style=\"text-align: right;\">\n",
       "      <th></th>\n",
       "      <th>Frontal</th>\n",
       "      <th>Temporal</th>\n",
       "      <th>Occipital</th>\n",
       "      <th>Parietal</th>\n",
       "      <th>Thalamus</th>\n",
       "      <th>Caudate</th>\n",
       "      <th>Putamen</th>\n",
       "      <th>Pallidum</th>\n",
       "      <th>S_nigra</th>\n",
       "      <th>Midbrain</th>\n",
       "      <th>Cerebellum_Crus</th>\n",
       "      <th>GM</th>\n",
       "      <th>Background</th>\n",
       "    </tr>\n",
       "  </thead>\n",
       "  <tbody>\n",
       "    <tr>\n",
       "      <th>count</th>\n",
       "      <td>276.000000</td>\n",
       "      <td>276.000000</td>\n",
       "      <td>276.000000</td>\n",
       "      <td>276.000000</td>\n",
       "      <td>276.000000</td>\n",
       "      <td>276.000000</td>\n",
       "      <td>276.000000</td>\n",
       "      <td>276.000000</td>\n",
       "      <td>276.000000</td>\n",
       "      <td>276.000000</td>\n",
       "      <td>276.000000</td>\n",
       "      <td>276.000000</td>\n",
       "      <td>276.000000</td>\n",
       "    </tr>\n",
       "    <tr>\n",
       "      <th>mean</th>\n",
       "      <td>1.001218</td>\n",
       "      <td>1.133157</td>\n",
       "      <td>1.141270</td>\n",
       "      <td>1.026812</td>\n",
       "      <td>1.323791</td>\n",
       "      <td>0.830565</td>\n",
       "      <td>1.160347</td>\n",
       "      <td>1.277064</td>\n",
       "      <td>1.215276</td>\n",
       "      <td>1.183735</td>\n",
       "      <td>0.975432</td>\n",
       "      <td>1.060598</td>\n",
       "      <td>0.389142</td>\n",
       "    </tr>\n",
       "    <tr>\n",
       "      <th>std</th>\n",
       "      <td>0.229507</td>\n",
       "      <td>0.275254</td>\n",
       "      <td>0.239579</td>\n",
       "      <td>0.222101</td>\n",
       "      <td>0.361725</td>\n",
       "      <td>0.167780</td>\n",
       "      <td>0.212238</td>\n",
       "      <td>0.305204</td>\n",
       "      <td>0.292597</td>\n",
       "      <td>0.302753</td>\n",
       "      <td>0.233633</td>\n",
       "      <td>0.226911</td>\n",
       "      <td>0.314944</td>\n",
       "    </tr>\n",
       "    <tr>\n",
       "      <th>min</th>\n",
       "      <td>0.697042</td>\n",
       "      <td>0.740481</td>\n",
       "      <td>0.739111</td>\n",
       "      <td>0.745673</td>\n",
       "      <td>0.553958</td>\n",
       "      <td>0.389441</td>\n",
       "      <td>0.706236</td>\n",
       "      <td>0.577786</td>\n",
       "      <td>0.507054</td>\n",
       "      <td>0.529149</td>\n",
       "      <td>0.400252</td>\n",
       "      <td>0.772350</td>\n",
       "      <td>0.000000</td>\n",
       "    </tr>\n",
       "    <tr>\n",
       "      <th>25%</th>\n",
       "      <td>0.862711</td>\n",
       "      <td>0.963852</td>\n",
       "      <td>0.993407</td>\n",
       "      <td>0.882398</td>\n",
       "      <td>1.052485</td>\n",
       "      <td>0.714597</td>\n",
       "      <td>1.030432</td>\n",
       "      <td>1.090913</td>\n",
       "      <td>1.066163</td>\n",
       "      <td>1.025597</td>\n",
       "      <td>0.850582</td>\n",
       "      <td>0.922001</td>\n",
       "      <td>0.132919</td>\n",
       "    </tr>\n",
       "    <tr>\n",
       "      <th>50%</th>\n",
       "      <td>0.942738</td>\n",
       "      <td>1.065552</td>\n",
       "      <td>1.084137</td>\n",
       "      <td>0.977482</td>\n",
       "      <td>1.267525</td>\n",
       "      <td>0.833962</td>\n",
       "      <td>1.129312</td>\n",
       "      <td>1.239615</td>\n",
       "      <td>1.229411</td>\n",
       "      <td>1.157745</td>\n",
       "      <td>0.962204</td>\n",
       "      <td>1.008604</td>\n",
       "      <td>0.305396</td>\n",
       "    </tr>\n",
       "    <tr>\n",
       "      <th>75%</th>\n",
       "      <td>1.057933</td>\n",
       "      <td>1.224168</td>\n",
       "      <td>1.202600</td>\n",
       "      <td>1.095352</td>\n",
       "      <td>1.541056</td>\n",
       "      <td>0.935269</td>\n",
       "      <td>1.253756</td>\n",
       "      <td>1.408086</td>\n",
       "      <td>1.360058</td>\n",
       "      <td>1.306806</td>\n",
       "      <td>1.079004</td>\n",
       "      <td>1.127873</td>\n",
       "      <td>0.582249</td>\n",
       "    </tr>\n",
       "    <tr>\n",
       "      <th>max</th>\n",
       "      <td>2.639362</td>\n",
       "      <td>2.952233</td>\n",
       "      <td>2.420399</td>\n",
       "      <td>2.440121</td>\n",
       "      <td>2.385130</td>\n",
       "      <td>1.345925</td>\n",
       "      <td>2.637564</td>\n",
       "      <td>2.872776</td>\n",
       "      <td>2.959314</td>\n",
       "      <td>2.673736</td>\n",
       "      <td>2.440079</td>\n",
       "      <td>2.631861</td>\n",
       "      <td>1.329917</td>\n",
       "    </tr>\n",
       "  </tbody>\n",
       "</table>\n",
       "</div>"
      ],
      "text/plain": [
       "          Frontal    Temporal   Occipital    Parietal    Thalamus     Caudate  \\\n",
       "count  276.000000  276.000000  276.000000  276.000000  276.000000  276.000000   \n",
       "mean     1.001218    1.133157    1.141270    1.026812    1.323791    0.830565   \n",
       "std      0.229507    0.275254    0.239579    0.222101    0.361725    0.167780   \n",
       "min      0.697042    0.740481    0.739111    0.745673    0.553958    0.389441   \n",
       "25%      0.862711    0.963852    0.993407    0.882398    1.052485    0.714597   \n",
       "50%      0.942738    1.065552    1.084137    0.977482    1.267525    0.833962   \n",
       "75%      1.057933    1.224168    1.202600    1.095352    1.541056    0.935269   \n",
       "max      2.639362    2.952233    2.420399    2.440121    2.385130    1.345925   \n",
       "\n",
       "          Putamen    Pallidum     S_nigra    Midbrain  Cerebellum_Crus  \\\n",
       "count  276.000000  276.000000  276.000000  276.000000       276.000000   \n",
       "mean     1.160347    1.277064    1.215276    1.183735         0.975432   \n",
       "std      0.212238    0.305204    0.292597    0.302753         0.233633   \n",
       "min      0.706236    0.577786    0.507054    0.529149         0.400252   \n",
       "25%      1.030432    1.090913    1.066163    1.025597         0.850582   \n",
       "50%      1.129312    1.239615    1.229411    1.157745         0.962204   \n",
       "75%      1.253756    1.408086    1.360058    1.306806         1.079004   \n",
       "max      2.637564    2.872776    2.959314    2.673736         2.440079   \n",
       "\n",
       "               GM  Background  \n",
       "count  276.000000  276.000000  \n",
       "mean     1.060598    0.389142  \n",
       "std      0.226911    0.314944  \n",
       "min      0.772350    0.000000  \n",
       "25%      0.922001    0.132919  \n",
       "50%      1.008604    0.305396  \n",
       "75%      1.127873    0.582249  \n",
       "max      2.631861    1.329917  "
      ]
     },
     "execution_count": 55,
     "metadata": {},
     "output_type": "execute_result"
    }
   ],
   "source": [
    "csv_dir = '/home/ccchen/Documents/dr_chang/AI_tau_20211201_details.csv'\n",
    "pre_df = pd.read_csv(csv_dir)\n",
    "df = pre_df[['Frontal','Temporal','Occipital','Parietal','Thalamus','Caudate','Putamen','Pallidum','S_nigra','Midbrain','Cerebellum_Crus','GM','Background']]\n",
    "#print(pre_df.shape, df.shape)\n",
    "df.describe()\n",
    "#null_value_stats = df.isnull().sum(axis=0)\n",
    "#print(null_value_stats)"
   ]
  },
  {
   "cell_type": "code",
   "execution_count": 59,
   "metadata": {},
   "outputs": [
    {
     "name": "stdout",
     "output_type": "stream",
     "text": [
      "[0.86271125 0.96385175 0.99340725 0.8823985  1.0524845  0.71459725\n",
      " 1.03043225 1.09091325 1.066163   1.025597   0.850582   0.922001\n",
      " 0.13291925]\n",
      "Frontal            0\n",
      "Temporal           0\n",
      "Occipital          0\n",
      "Parietal           0\n",
      "Thalamus           0\n",
      "Caudate            0\n",
      "Putamen            0\n",
      "Pallidum           0\n",
      "S_nigra            0\n",
      "Midbrain           0\n",
      "Cerebellum_Crus    0\n",
      "GM                 0\n",
      "Background         0\n",
      "dtype: int64\n",
      "mean  [0.818398536231884, 0.8937663333333331, 0.9364726231884059, 0.8361384927536232, 0.9264959420289856, 0.6166153768115942, 0.946907768115942, 0.9350608550724637, 0.8684010869565219, 0.8449514492753621, 0.7147955797101451, 0.8698818695652174, 0.06263097101449276]  std  [0.037141631996711215, 0.04552417613757366, 0.04232634059207084, 0.0346915391659007, 0.11936764509806462, 0.07439023522372154, 0.07070602661994953, 0.12344916531861627, 0.14798856719274145, 0.1339694211913091, 0.10980180601962422, 0.033855882036379556, 0.04386532210814521]\n"
     ]
    },
    {
     "data": {
      "text/html": [
       "<div>\n",
       "<style scoped>\n",
       "    .dataframe tbody tr th:only-of-type {\n",
       "        vertical-align: middle;\n",
       "    }\n",
       "\n",
       "    .dataframe tbody tr th {\n",
       "        vertical-align: top;\n",
       "    }\n",
       "\n",
       "    .dataframe thead th {\n",
       "        text-align: right;\n",
       "    }\n",
       "</style>\n",
       "<table border=\"1\" class=\"dataframe\">\n",
       "  <thead>\n",
       "    <tr style=\"text-align: right;\">\n",
       "      <th></th>\n",
       "      <th>Frontal</th>\n",
       "      <th>Temporal</th>\n",
       "      <th>Occipital</th>\n",
       "      <th>Parietal</th>\n",
       "      <th>Thalamus</th>\n",
       "      <th>Caudate</th>\n",
       "      <th>Putamen</th>\n",
       "      <th>Pallidum</th>\n",
       "      <th>S_nigra</th>\n",
       "      <th>Midbrain</th>\n",
       "      <th>Cerebellum_Crus</th>\n",
       "      <th>GM</th>\n",
       "      <th>Background</th>\n",
       "    </tr>\n",
       "  </thead>\n",
       "  <tbody>\n",
       "    <tr>\n",
       "      <th>count</th>\n",
       "      <td>276.000000</td>\n",
       "      <td>276.000000</td>\n",
       "      <td>276.000000</td>\n",
       "      <td>276.000000</td>\n",
       "      <td>276.000000</td>\n",
       "      <td>276.000000</td>\n",
       "      <td>276.000000</td>\n",
       "      <td>276.000000</td>\n",
       "      <td>276.000000</td>\n",
       "      <td>276.000000</td>\n",
       "      <td>276.000000</td>\n",
       "      <td>276.000000</td>\n",
       "      <td>276.000000</td>\n",
       "    </tr>\n",
       "    <tr>\n",
       "      <th>mean</th>\n",
       "      <td>4.922223</td>\n",
       "      <td>5.258542</td>\n",
       "      <td>4.838526</td>\n",
       "      <td>5.496260</td>\n",
       "      <td>3.328334</td>\n",
       "      <td>2.876038</td>\n",
       "      <td>3.018683</td>\n",
       "      <td>2.770397</td>\n",
       "      <td>2.343929</td>\n",
       "      <td>2.528816</td>\n",
       "      <td>2.373703</td>\n",
       "      <td>5.633181</td>\n",
       "      <td>7.443499</td>\n",
       "    </tr>\n",
       "    <tr>\n",
       "      <th>std</th>\n",
       "      <td>6.179232</td>\n",
       "      <td>6.046327</td>\n",
       "      <td>5.660280</td>\n",
       "      <td>6.402162</td>\n",
       "      <td>3.030345</td>\n",
       "      <td>2.255407</td>\n",
       "      <td>3.001691</td>\n",
       "      <td>2.472308</td>\n",
       "      <td>1.977160</td>\n",
       "      <td>2.259863</td>\n",
       "      <td>2.127767</td>\n",
       "      <td>6.702271</td>\n",
       "      <td>7.179794</td>\n",
       "    </tr>\n",
       "    <tr>\n",
       "      <th>min</th>\n",
       "      <td>-3.267399</td>\n",
       "      <td>-3.367119</td>\n",
       "      <td>-4.662856</td>\n",
       "      <td>-2.607711</td>\n",
       "      <td>-3.120929</td>\n",
       "      <td>-3.053820</td>\n",
       "      <td>-3.403837</td>\n",
       "      <td>-2.894105</td>\n",
       "      <td>-2.441723</td>\n",
       "      <td>-2.357273</td>\n",
       "      <td>-2.864649</td>\n",
       "      <td>-2.880795</td>\n",
       "      <td>-1.427801</td>\n",
       "    </tr>\n",
       "    <tr>\n",
       "      <th>25%</th>\n",
       "      <td>1.193074</td>\n",
       "      <td>1.539521</td>\n",
       "      <td>1.345135</td>\n",
       "      <td>1.333467</td>\n",
       "      <td>1.055467</td>\n",
       "      <td>1.317134</td>\n",
       "      <td>1.181292</td>\n",
       "      <td>1.262482</td>\n",
       "      <td>1.336332</td>\n",
       "      <td>1.348409</td>\n",
       "      <td>1.236650</td>\n",
       "      <td>1.539441</td>\n",
       "      <td>1.602366</td>\n",
       "    </tr>\n",
       "    <tr>\n",
       "      <th>50%</th>\n",
       "      <td>3.347725</td>\n",
       "      <td>3.773493</td>\n",
       "      <td>3.488723</td>\n",
       "      <td>4.074293</td>\n",
       "      <td>2.856964</td>\n",
       "      <td>2.921716</td>\n",
       "      <td>2.579755</td>\n",
       "      <td>2.467037</td>\n",
       "      <td>2.439448</td>\n",
       "      <td>2.334817</td>\n",
       "      <td>2.253227</td>\n",
       "      <td>4.097431</td>\n",
       "      <td>5.534327</td>\n",
       "    </tr>\n",
       "    <tr>\n",
       "      <th>75%</th>\n",
       "      <td>6.449218</td>\n",
       "      <td>7.257713</td>\n",
       "      <td>6.287518</td>\n",
       "      <td>7.471945</td>\n",
       "      <td>5.148468</td>\n",
       "      <td>4.283538</td>\n",
       "      <td>4.339782</td>\n",
       "      <td>3.831740</td>\n",
       "      <td>3.322261</td>\n",
       "      <td>3.447461</td>\n",
       "      <td>3.316960</td>\n",
       "      <td>7.620268</td>\n",
       "      <td>11.845753</td>\n",
       "    </tr>\n",
       "    <tr>\n",
       "      <th>max</th>\n",
       "      <td>49.027557</td>\n",
       "      <td>45.217000</td>\n",
       "      <td>35.059170</td>\n",
       "      <td>46.235553</td>\n",
       "      <td>12.219677</td>\n",
       "      <td>9.803835</td>\n",
       "      <td>23.911063</td>\n",
       "      <td>15.696462</td>\n",
       "      <td>14.128881</td>\n",
       "      <td>13.650761</td>\n",
       "      <td>15.712705</td>\n",
       "      <td>52.043516</td>\n",
       "      <td>28.890385</td>\n",
       "    </tr>\n",
       "  </tbody>\n",
       "</table>\n",
       "</div>"
      ],
      "text/plain": [
       "          Frontal    Temporal   Occipital    Parietal    Thalamus     Caudate  \\\n",
       "count  276.000000  276.000000  276.000000  276.000000  276.000000  276.000000   \n",
       "mean     4.922223    5.258542    4.838526    5.496260    3.328334    2.876038   \n",
       "std      6.179232    6.046327    5.660280    6.402162    3.030345    2.255407   \n",
       "min     -3.267399   -3.367119   -4.662856   -2.607711   -3.120929   -3.053820   \n",
       "25%      1.193074    1.539521    1.345135    1.333467    1.055467    1.317134   \n",
       "50%      3.347725    3.773493    3.488723    4.074293    2.856964    2.921716   \n",
       "75%      6.449218    7.257713    6.287518    7.471945    5.148468    4.283538   \n",
       "max     49.027557   45.217000   35.059170   46.235553   12.219677    9.803835   \n",
       "\n",
       "          Putamen    Pallidum     S_nigra    Midbrain  Cerebellum_Crus  \\\n",
       "count  276.000000  276.000000  276.000000  276.000000       276.000000   \n",
       "mean     3.018683    2.770397    2.343929    2.528816         2.373703   \n",
       "std      3.001691    2.472308    1.977160    2.259863         2.127767   \n",
       "min     -3.403837   -2.894105   -2.441723   -2.357273        -2.864649   \n",
       "25%      1.181292    1.262482    1.336332    1.348409         1.236650   \n",
       "50%      2.579755    2.467037    2.439448    2.334817         2.253227   \n",
       "75%      4.339782    3.831740    3.322261    3.447461         3.316960   \n",
       "max     23.911063   15.696462   14.128881   13.650761        15.712705   \n",
       "\n",
       "               GM  Background  \n",
       "count  276.000000  276.000000  \n",
       "mean     5.633181    7.443499  \n",
       "std      6.702271    7.179794  \n",
       "min     -2.880795   -1.427801  \n",
       "25%      1.539441    1.602366  \n",
       "50%      4.097431    5.534327  \n",
       "75%      7.620268   11.845753  \n",
       "max     52.043516   28.890385  "
      ]
     },
     "execution_count": 59,
     "metadata": {},
     "output_type": "execute_result"
    }
   ],
   "source": [
    "from sklearn.mixture import GaussianMixture\n",
    "df_normal = df.to_numpy()\n",
    "label_anatomy =['Frontal','Temporal','Occipital','Parietal','Thalamus','Caudate','Putamen','Pallidum','S_nigra','Midbrain','Cerebellum_Crus','GM','Background']\n",
    "new_df = df.copy()\n",
    "bdd = np.quantile(df_normal,0.25,axis =0)\n",
    "print(bdd)\n",
    "o_std = []\n",
    "o_mean =[]\n",
    "print(df.isnull().sum(axis=0))\n",
    "for i in range(df_normal.shape[1]):\n",
    "    assert df.keys()[i]==label_anatomy[i]\n",
    "    \n",
    "    df_slice = df_normal[:,i]\n",
    "    slice_cand = df_slice[df_slice < bdd[i]]\n",
    "    #print(slice_cand)\n",
    "    s_std = np.std(slice_cand)\n",
    "    s_mean = np.mean(slice_cand)\n",
    "    o_mean.append(s_mean)\n",
    "    o_std.append(s_std)\n",
    "    '''\n",
    "    gm = GaussianMixture(n_components=2, random_state=0).fit(X)\n",
    "    index = np.argmin(gm.means_)\n",
    "    s_mean = gm.means_[index].squeeze()\n",
    "    s_std = np.sqrt(gm.covariances_[index].squeeze())\n",
    "    s_weight =gm.weights_[index].squeeze()\n",
    "    print(index, s_mean,s_std,s_weight)\n",
    "    '''\n",
    "    anatomy = df.keys()[i]\n",
    "    new_df[anatomy]= ((df[anatomy].copy()-s_mean)/s_std) #.apply(lambda x: (x - s_mean)/s_std)\n",
    "    #print(anatomy, 'mean = '   , gm.means_  ,'std = ' , gm.covariances_, 'num =',gm.weights_) \n",
    "print('mean ',o_mean,' std ' ,o_std)\n",
    "new_df.describe()"
   ]
  },
  {
   "cell_type": "code",
   "execution_count": 47,
   "metadata": {},
   "outputs": [],
   "source": [
    "import pySuStaIn\n",
    "sys.path.insert(0,'../sim/')\n",
    "from simfuncs import generate_random_Zscore_sustain_model, generate_data_Zscore_sustain"
   ]
  },
  {
   "cell_type": "code",
   "execution_count": 6,
   "metadata": {},
   "outputs": [
    {
     "name": "stdout",
     "output_type": "stream",
     "text": [
      "0.29799138445097406\n",
      "0.8250775664049491\n",
      "1.6244064294955838\n",
      "2.6115441107546564\n"
     ]
    }
   ],
   "source": [
    "df_normal = new_df.to_numpy()\n",
    "small =np.mean( np.quantile(df_normal,0.50,axis =0))\n",
    "med =np.mean(np.quantile(df_normal,0.65,axis =0)) #np.mean(df_normal,axis =0)\n",
    "big =np.mean( np.quantile(df_normal,0.80,axis =0))\n",
    "\n",
    "print(small) #np.mean(df_normal,axis =0))\n",
    "print(med)#np.quantile(df_normal,0.50,axis =0))\n",
    "print(big) #np.quantile(df_normal,0.75,axis =0))\n",
    "\n",
    "print(np.mean(np.quantile(df_normal,0.90,axis =0)))\n",
    "\n",
    "#np.stack([small,med,big],axis = 1)\n",
    "#print(z_stack.shape)\n",
    "#print(z_stack)\n",
    "z_max = np.mean(np.quantile(df_normal,0.90,axis =0))"
   ]
  },
  {
   "cell_type": "code",
   "execution_count": 61,
   "metadata": {},
   "outputs": [
    {
     "name": "stdout",
     "output_type": "stream",
     "text": [
      "[ 7.49483662  8.37090748  8.14283427  8.61202802  5.94879842  4.65080695\n",
      "  4.68964596  4.33522692  3.59288507  3.77330548  3.52689481  8.21027584\n",
      " 10.        ]\n",
      "13 276 13\n"
     ]
    }
   ],
   "source": [
    "df_normal = new_df.to_numpy()\n",
    "df_normal = np.where(df_normal <0,0,df_normal)\n",
    "z_max =10\n",
    "df_normal = np.where(df_normal > z_max,z_max,df_normal)\n",
    "print(np.quantile(df_normal,0.80,axis =0))\n",
    "N                       = df_normal.shape[1]         # number of biomarkers\n",
    "M                       = df_normal.shape[0]         # number of observations ( e.g. subjects )\n",
    "#N_S_gt                  = 4                          # number of ground truth subtypes\n",
    "SuStaInLabels  = ['Frontal','Temporal','Occipital','Parietal','Thalamus','Caudate','Putamen','Pallidum','S_nigra','Midbrain','Cerebellum_Crus','GM','Background']\n",
    "print(N,M,len(SuStaInLabels))\n",
    "#for i in range(N):\n",
    "#        SuStaInLabels.append( 'Biomarker '+str(i)) \n",
    "Z_vals                  = np.array([[2,5,7]]*N) #np.array([[small,med,big]]*N)     # Z-scores for each biomarker\n",
    "Z_max                   = np.array([z_max]*N) #np.array([z_max]*N)    \n",
    "\n",
    "N_startpoints           = 25                        #The number of startpoints to use when fitting the subtypes hierarchichally. Using 25 from the author's suggestion.\n",
    "N_S_max                 = 3                         #The maximum number of subtypes to fit\n",
    "N_iterations_MCMC       = int(1e5)                  #The number of iterations for the MCMC sampling of the uncertainty in the progression pattern. using 1e5 or 1e6 by the author's suggestion.\n",
    "output_folder = os.path.join(os.getcwd(), 'sim_128_renormal_25710_quantile25_relu')\n",
    "dataset_name = 'sim_128_renormal_25710_quantile25_relu'\n",
    "sustain_input = pySuStaIn.ZscoreSustain(df_normal,\n",
    "                              Z_vals,\n",
    "                              Z_max,\n",
    "                              SuStaInLabels,\n",
    "                              N_startpoints,\n",
    "                              N_S_max, \n",
    "                              N_iterations_MCMC, \n",
    "                              output_folder, \n",
    "                              dataset_name, \n",
    "                              False)\n",
    "if not os.path.isdir(output_folder):\n",
    "    os.mkdir(output_folder)\n"
   ]
  },
  {
   "cell_type": "code",
   "execution_count": 62,
   "metadata": {},
   "outputs": [
    {
     "name": "stdout",
     "output_type": "stream",
     "text": [
      "Failed to find pickle file: /home/ccchen/projects/pySuStaIn/notebooks/sim_128_renormal_25710_quantile25_relu/pickle_files/sim_128_renormal_25710_quantile25_relu_subtype0.pickle. Running SuStaIn model for 0 subtype.\n",
      "Finding ML solution to 1 cluster problem\n",
      "Overall ML likelihood is -11239.208939964185\n"
     ]
    },
    {
     "data": {
      "application/vnd.jupyter.widget-view+json": {
       "model_id": "c0fd630aee7149d3a2524012582e7961",
       "version_major": 2,
       "version_minor": 0
      },
      "text/plain": [
       "MCMC Iteration:   0%|          | 0/10000 [00:00<?, ?it/s]"
      ]
     },
     "metadata": {},
     "output_type": "display_data"
    },
    {
     "data": {
      "application/vnd.jupyter.widget-view+json": {
       "model_id": "117497f348564e75bed14b2ed611a22e",
       "version_major": 2,
       "version_minor": 0
      },
      "text/plain": [
       "MCMC Iteration:   0%|          | 0/10000 [00:00<?, ?it/s]"
      ]
     },
     "metadata": {},
     "output_type": "display_data"
    },
    {
     "data": {
      "application/vnd.jupyter.widget-view+json": {
       "model_id": "dccccb4ecfc24c318a61d342a0389be0",
       "version_major": 2,
       "version_minor": 0
      },
      "text/plain": [
       "MCMC Iteration:   0%|          | 0/10000 [00:00<?, ?it/s]"
      ]
     },
     "metadata": {},
     "output_type": "display_data"
    },
    {
     "data": {
      "application/vnd.jupyter.widget-view+json": {
       "model_id": "06b7c86d6f75410982584f2499d39d03",
       "version_major": 2,
       "version_minor": 0
      },
      "text/plain": [
       "MCMC Iteration:   0%|          | 0/100000 [00:00<?, ?it/s]"
      ]
     },
     "metadata": {},
     "output_type": "display_data"
    },
    {
     "name": "stdout",
     "output_type": "stream",
     "text": [
      "Failed to find pickle file: /home/ccchen/projects/pySuStaIn/notebooks/sim_128_renormal_25710_quantile25_relu/pickle_files/sim_128_renormal_25710_quantile25_relu_subtype1.pickle. Running SuStaIn model for 1 subtype.\n",
      "Splitting cluster 1 of 1\n",
      " + Resolving 2 cluster problem\n",
      " + Finding ML solution from hierarchical initialisation\n",
      "- ML likelihood is [-8848.9118178]\n",
      "Overall ML likelihood is [-8848.9118178]\n"
     ]
    },
    {
     "data": {
      "application/vnd.jupyter.widget-view+json": {
       "model_id": "7f6ffaa866064168b819e178e0421b46",
       "version_major": 2,
       "version_minor": 0
      },
      "text/plain": [
       "MCMC Iteration:   0%|          | 0/10000 [00:00<?, ?it/s]"
      ]
     },
     "metadata": {},
     "output_type": "display_data"
    },
    {
     "data": {
      "application/vnd.jupyter.widget-view+json": {
       "model_id": "927e6b54793d4c7ea4e8ab449fca948b",
       "version_major": 2,
       "version_minor": 0
      },
      "text/plain": [
       "MCMC Iteration:   0%|          | 0/10000 [00:00<?, ?it/s]"
      ]
     },
     "metadata": {},
     "output_type": "display_data"
    },
    {
     "data": {
      "application/vnd.jupyter.widget-view+json": {
       "model_id": "a71facbe0ca14275b5628cd0536b9946",
       "version_major": 2,
       "version_minor": 0
      },
      "text/plain": [
       "MCMC Iteration:   0%|          | 0/10000 [00:00<?, ?it/s]"
      ]
     },
     "metadata": {},
     "output_type": "display_data"
    },
    {
     "data": {
      "application/vnd.jupyter.widget-view+json": {
       "model_id": "c84a51ae298046778231b42f386be5c5",
       "version_major": 2,
       "version_minor": 0
      },
      "text/plain": [
       "MCMC Iteration:   0%|          | 0/100000 [00:00<?, ?it/s]"
      ]
     },
     "metadata": {},
     "output_type": "display_data"
    },
    {
     "name": "stdout",
     "output_type": "stream",
     "text": [
      "Failed to find pickle file: /home/ccchen/projects/pySuStaIn/notebooks/sim_128_renormal_25710_quantile25_relu/pickle_files/sim_128_renormal_25710_quantile25_relu_subtype2.pickle. Running SuStaIn model for 2 subtype.\n",
      "Splitting cluster 1 of 2\n",
      " + Resolving 2 cluster problem\n",
      " + Finding ML solution from hierarchical initialisation\n",
      "- ML likelihood is [-8238.89118872]\n",
      "Splitting cluster 2 of 2\n",
      " + Resolving 2 cluster problem\n",
      " + Finding ML solution from hierarchical initialisation\n",
      "- ML likelihood is [-8298.6308283]\n",
      "Overall ML likelihood is [-8238.89118872]\n"
     ]
    },
    {
     "data": {
      "application/vnd.jupyter.widget-view+json": {
       "model_id": "9e58b685105d4ba68ab7fe7663f95554",
       "version_major": 2,
       "version_minor": 0
      },
      "text/plain": [
       "MCMC Iteration:   0%|          | 0/10000 [00:00<?, ?it/s]"
      ]
     },
     "metadata": {},
     "output_type": "display_data"
    },
    {
     "data": {
      "application/vnd.jupyter.widget-view+json": {
       "model_id": "b4179c4e9c2d4c40991b52c3538d31c9",
       "version_major": 2,
       "version_minor": 0
      },
      "text/plain": [
       "MCMC Iteration:   0%|          | 0/10000 [00:00<?, ?it/s]"
      ]
     },
     "metadata": {},
     "output_type": "display_data"
    },
    {
     "data": {
      "application/vnd.jupyter.widget-view+json": {
       "model_id": "387034a3631e4d70830a93d394911e02",
       "version_major": 2,
       "version_minor": 0
      },
      "text/plain": [
       "MCMC Iteration:   0%|          | 0/10000 [00:00<?, ?it/s]"
      ]
     },
     "metadata": {},
     "output_type": "display_data"
    },
    {
     "data": {
      "application/vnd.jupyter.widget-view+json": {
       "model_id": "8c4593b7a3054554bd4040ec30f91701",
       "version_major": 2,
       "version_minor": 0
      },
      "text/plain": [
       "MCMC Iteration:   0%|          | 0/100000 [00:00<?, ?it/s]"
      ]
     },
     "metadata": {},
     "output_type": "display_data"
    }
   ],
   "source": [
    "# runs the sustain algorithm with the inputs set in sustain_input above\n",
    "samples_sequence,   \\\n",
    "samples_f,          \\\n",
    "ml_subtype,         \\\n",
    "prob_ml_subtype,    \\\n",
    "ml_stage,           \\\n",
    "prob_ml_stage,      \\\n",
    "prob_subtype_stage  = sustain_input.run_sustain_algorithm()\n"
   ]
  },
  {
   "cell_type": "code",
   "execution_count": 63,
   "metadata": {},
   "outputs": [
    {
     "name": "stderr",
     "output_type": "stream",
     "text": [
      "/home/ccchen/miniconda3/envs/ssl/lib/python3.7/site-packages/ipykernel_launcher.py:1: SettingWithCopyWarning: \n",
      "A value is trying to be set on a copy of a slice from a DataFrame.\n",
      "Try using .loc[row_indexer,col_indexer] = value instead\n",
      "\n",
      "See the caveats in the documentation: https://pandas.pydata.org/pandas-docs/stable/user_guide/indexing.html#returning-a-view-versus-a-copy\n",
      "  \"\"\"Entry point for launching an IPython kernel.\n",
      "/home/ccchen/miniconda3/envs/ssl/lib/python3.7/site-packages/ipykernel_launcher.py:3: SettingWithCopyWarning: \n",
      "A value is trying to be set on a copy of a slice from a DataFrame.\n",
      "Try using .loc[row_indexer,col_indexer] = value instead\n",
      "\n",
      "See the caveats in the documentation: https://pandas.pydata.org/pandas-docs/stable/user_guide/indexing.html#returning-a-view-versus-a-copy\n",
      "  This is separate from the ipykernel package so we can avoid doing imports until\n"
     ]
    }
   ],
   "source": [
    "df['subtype']=pd.Series(ml_subtype[:,0])\n",
    "\n",
    "df['stage'] = pd.Series(ml_stage[:,0])\n",
    "\n",
    "df=df.sort_values(['subtype', 'stage'])\n",
    "\n",
    "save_dir = '/home/ccchen/Documents/dr_chang/ai_tau_3_cluster_initial_128_25710_quantile25_relu.csv'\n",
    "df.to_csv(save_dir)"
   ]
  },
  {
   "cell_type": "code",
   "execution_count": 14,
   "metadata": {},
   "outputs": [
    {
     "data": {
      "image/png": "[encoded data removed]",
      "text/plain": [
       "<Figure size 432x288 with 1 Axes>"
      ]
     },
     "metadata": {
      "needs_background": "light"
     },
     "output_type": "display_data"
    }
   ],
   "source": [
    "cluster_df =df[df['subtype']==2]\n",
    "c_train = cluster_df.drop(['subtype','stage'], axis = 1)\n",
    "l_train = cluster_df['stage']\n",
    "c_train.describe()\n",
    "\n",
    "from sklearn import tree\n",
    "clf = tree.DecisionTreeClassifier(max_depth =5)\n",
    "clf = clf.fit(c_train, l_train)\n",
    "import matplotlib.pyplot as plt\n",
    "\n",
    "plt.figure()\n",
    "tree.plot_tree(clf,filled=True)  \n",
    "plt.savefig('tree_quantile_5_initial_3.eps',format='eps',bbox_inches = \"tight\")"
   ]
  },
  {
   "cell_type": "code",
   "execution_count": 64,
   "metadata": {},
   "outputs": [
    {
     "name": "stdout",
     "output_type": "stream",
     "text": [
      "[2 5 7]\n",
      "[2 5 7]\n",
      "[2 5 7]\n"
     ]
    },
    {
     "data": {
      "image/png": "[encoded data removed]",
      "text/plain": [
       "<Figure size 432x288 with 4 Axes>"
      ]
     },
     "metadata": {
      "needs_background": "light"
     },
     "output_type": "display_data"
    }
   ],
   "source": [
    "# The code below opens the results for the ground truth number of subtypes\n",
    "# and plots the output\n",
    "s = N_S_max-1\n",
    "\n",
    "pickle_filename_s           = output_folder + '/pickle_files/' + dataset_name + '_subtype' + str(s) + '.pickle'\n",
    "pickle_filepath             = Path(pickle_filename_s)\n",
    "pickle_file                 = open(pickle_filename_s, 'rb')\n",
    "loaded_variables            = pickle.load(pickle_file)\n",
    "samples_sequence            = loaded_variables[\"samples_sequence\"]\n",
    "samples_f                   = loaded_variables[\"samples_f\"]\n",
    "\n",
    "\n",
    "pickle_file.close()\n",
    "\n",
    "pySuStaIn.ZscoreSustain._plot_sustain_model(sustain_input,samples_sequence,samples_f,M)\n",
    "_ = plt.suptitle('3 cluster: SuStaIn output')\n"
   ]
  },
  {
   "cell_type": "code",
   "execution_count": null,
   "metadata": {},
   "outputs": [],
   "source": []
  }
 ],
 "metadata": {
  "kernelspec": {
   "display_name": "Python 3",
   "language": "python",
   "name": "python3"
  },
  "language_info": {
   "codemirror_mode": {
    "name": "ipython",
    "version": 3
   },
   "file_extension": ".py",
   "mimetype": "text/x-python",
   "name": "python",
   "nbconvert_exporter": "python",
   "pygments_lexer": "ipython3",
   "version": "3.7.10"
  }
 },
 "nbformat": 4,
 "nbformat_minor": 4
}
